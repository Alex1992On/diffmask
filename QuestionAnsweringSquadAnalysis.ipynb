{
 "cells": [
  {
   "cell_type": "code",
   "execution_count": 1,
   "metadata": {},
   "outputs": [],
   "source": [
    "%load_ext autoreload\n",
    "%autoreload 2"
   ]
  },
  {
   "cell_type": "code",
   "execution_count": 2,
   "metadata": {},
   "outputs": [],
   "source": [
    "import os\n",
    "import argparse\n",
    "import torch\n",
    "\n",
    "import matplotlib.pyplot as plt\n",
    "from tqdm.auto import tqdm, trange\n",
    "\n",
    "from diffmask.models.question_answering_squad import BertQuestionAnsweringSquad\n",
    "\n",
    "from diffmask.attributions.integrated_gradient import squad_bert_integrated_gradient as integrated_gradient\n",
    "from diffmask.attributions.schulz import bert_hidden_states_statistics, squad_bert_schulz_explainer\n",
    "from diffmask.attributions.guan import squad_bert_guan_explainer\n",
    "\n",
    "from diffmask.utils.plot import print_attributions"
   ]
  },
  {
   "cell_type": "code",
   "execution_count": 3,
   "metadata": {},
   "outputs": [],
   "source": [
    "if __name__ == \"__main__\":\n",
    "    parser = argparse.ArgumentParser()\n",
    "    parser.add_argument(\"--gpus\", type=str, default=\"0\")\n",
    "    parser.add_argument(\"--model\", type=str, default=\"bert-large-uncased-whole-word-masking-finetuned-squad\")\n",
    "    parser.add_argument(\n",
    "        \"--train_filename\",\n",
    "        type=str,\n",
    "        default=\"./datasets/squad/train-v1.1_bert-large-uncased-whole-word-masking-finetuned-squad.json\",\n",
    "    )\n",
    "    parser.add_argument(\n",
    "        \"--val_filename\",\n",
    "        type=str,\n",
    "        default=\"./datasets/squad/dev-v1.1_bert-large-uncased-whole-word-masking-finetuned-squad.json\",\n",
    "    )\n",
    "    parser.add_argument(\"--batch_size\", type=int, default=12)\n",
    "    parser.add_argument(\"--seed\", type=int, default=0)\n",
    "\n",
    "    hparams, _ = parser.parse_known_args()\n",
    "    \n",
    "    torch.manual_seed(hparams.seed)\n",
    "    \n",
    "    os.environ[\"CUDA_VISIBLE_DEVICES\"] = hparams.gpus"
   ]
  },
  {
   "cell_type": "code",
   "execution_count": 4,
   "metadata": {
    "scrolled": true
   },
   "outputs": [
    {
     "data": {
      "application/vnd.jupyter.widget-view+json": {
       "model_id": "6f9c0230353f477ca6a47a4aa406a088",
       "version_major": 2,
       "version_minor": 0
      },
      "text/plain": [
       "HBox(children=(FloatProgress(value=0.0, max=87599.0), HTML(value='')))"
      ]
     },
     "metadata": {},
     "output_type": "display_data"
    },
    {
     "name": "stdout",
     "output_type": "stream",
     "text": [
      "\n"
     ]
    },
    {
     "data": {
      "application/vnd.jupyter.widget-view+json": {
       "model_id": "14ef4adb3f444c8e904c333063be4184",
       "version_major": 2,
       "version_minor": 0
      },
      "text/plain": [
       "HBox(children=(FloatProgress(value=0.0, max=10570.0), HTML(value='')))"
      ]
     },
     "metadata": {},
     "output_type": "display_data"
    },
    {
     "name": "stdout",
     "output_type": "stream",
     "text": [
      "\n"
     ]
    }
   ],
   "source": [
    "device = \"cuda:0\"\n",
    "model = BertQuestionAnsweringSquad(hparams).train().to(device)\n",
    "model.prepare_data()\n",
    "model.freeze()"
   ]
  },
  {
   "cell_type": "code",
   "execution_count": 5,
   "metadata": {},
   "outputs": [],
   "source": [
    "question = \"Where did the Broncos practice for the Super Bowl ?\"\n",
    "context = \"\"\"The Panthers used the San Jose State practice facility and \\\n",
    "stayed at the San Jose Marriott . The Broncos practiced at Stanford University \\\n",
    "and stayed at the Santa Clara Marriott .\"\"\"\n",
    "\n",
    "inputs_dict = {\n",
    "    k: v.to(device)\n",
    "    for k, v in model.tokenizer.encode_plus(\n",
    "        question,\n",
    "        context,\n",
    "        max_length=384,\n",
    "        pad_to_max_length=True,\n",
    "        return_tensors=\"pt\",\n",
    "    ).items()\n",
    "}\n",
    "inputs_dict[\"mask\"] = inputs_dict[\"attention_mask\"]\n",
    "inputs_dict[\"start_positions\"] = torch.tensor([33], device=device)\n",
    "inputs_dict[\"end_positions\"] = torch.tensor([34], device=device)\n",
    "del inputs_dict[\"attention_mask\"]\n",
    "\n",
    "question = model.tokenizer.tokenize(question)\n",
    "context = model.tokenizer.tokenize(context)\n",
    "tokens = [\"[CLS]\"]  + question + [\"[SEP]\"]  + context + [\"[SEP]\"]"
   ]
  },
  {
   "cell_type": "code",
   "execution_count": 6,
   "metadata": {
    "scrolled": true
   },
   "outputs": [],
   "source": [
    "i = 410\n",
    "inputs_dict = {\n",
    "    \"input_ids\": model.val_dataset[i][0].unsqueeze(0).to(device),\n",
    "    \"mask\": model.val_dataset[i][1].unsqueeze(0).to(device),\n",
    "    \"token_type_ids\": model.val_dataset[i][2].unsqueeze(0).to(device),\n",
    "    \"start_positions\": (model.val_dataset[i][3].unsqueeze(0).to(device))[...,0],\n",
    "    \"end_positions\": (model.val_dataset[i][3].unsqueeze(0).to(device) + 1)[...,0],\n",
    "}\n",
    "tokens = (\n",
    "    [\"[CLS]\"] \n",
    "    + list(model.val_dataset_orig.values())[i][\"question\"] \n",
    "    + [\"[SEP]\"] \n",
    "    + list(model.val_dataset_orig.values())[i][\"context\"] \n",
    "    + [\"[SEP]\"]\n",
    " )\n",
    "tokens = \"\"\"\n",
    "[CLS] Where did the Broncos practice for the Super Bowl ? \n",
    "[SEP] The Panthers used the San Jose State practice \n",
    "facility and stayed at the San Jose Marriott . The \n",
    "Broncos practiced at Stanford University and \n",
    "stayed at the Santa Clara Marriott . [SEP]\n",
    "\"\"\".replace(\"\\n\", \"\").split(\" \")"
   ]
  },
  {
   "cell_type": "code",
   "execution_count": 7,
   "metadata": {
    "scrolled": true
   },
   "outputs": [
    {
     "data": {
      "application/vnd.jupyter.widget-view+json": {
       "model_id": "d5695a6eec5f4313b1ec51a95ffa11d9",
       "version_major": 2,
       "version_minor": 0
      },
      "text/plain": [
       "HBox(children=(FloatProgress(value=0.0, max=500.0), HTML(value='')))"
      ]
     },
     "metadata": {},
     "output_type": "display_data"
    },
    {
     "name": "stdout",
     "output_type": "stream",
     "text": [
      "\n"
     ]
    }
   ],
   "source": [
    "attributions_ig = integrated_gradient(\n",
    "    model,\n",
    "    inputs_dict,\n",
    "    hidden_state_idx=0,\n",
    "    steps=500,\n",
    ")\n",
    "attributions_ig = attributions_ig.sum(-1).abs()[0,:inputs_dict[\"mask\"].sum()].cpu()"
   ]
  },
  {
   "cell_type": "code",
   "execution_count": 8,
   "metadata": {},
   "outputs": [
    {
     "name": "stdout",
     "output_type": "stream",
     "text": [
      "\u001b[48;2;152;153;0mWhere\u001b[49m \u001b[48;2;244;244;0mdid\u001b[49m \u001b[48;2;255;255;239mthe\u001b[49m \u001b[48;2;255;255;168mBroncos\u001b[49m \u001b[48;2;254;255;142mpractice\u001b[49m \u001b[48;2;254;255;137mfor\u001b[49m \u001b[48;2;254;254;204mthe\u001b[49m \u001b[48;2;255;255;168mSuper\u001b[49m \u001b[48;2;254;255;132mBowl\u001b[49m \u001b[48;2;158;158;0m?\u001b[49m \u001b[48;2;255;255;234mThe\u001b[49m \u001b[48;2;254;254;76mPanthers\u001b[49m \u001b[48;2;254;254;214mused\u001b[49m \u001b[48;2;255;255;255mthe\u001b[49m \u001b[48;2;255;255;188mSan\u001b[49m \u001b[48;2;255;255;188mJose\u001b[49m \u001b[48;2;255;255;168mState\u001b[49m \u001b[48;2;254;255;137mpractice\u001b[49m \u001b[48;2;255;255;224mfacility\u001b[49m \u001b[48;2;255;255;234mand\u001b[49m \u001b[48;2;254;255;122mstayed\u001b[49m \u001b[48;2;254;255;153mat\u001b[49m \u001b[48;2;255;255;239mthe\u001b[49m \u001b[48;2;255;255;178mSan\u001b[49m \u001b[48;2;255;255;229mJose\u001b[49m \u001b[48;2;254;254;214mMarriott\u001b[49m \u001b[48;2;255;255;234m.\u001b[49m \u001b[48;2;255;255;239mThe\u001b[49m \u001b[48;2;193;193;0mBroncos\u001b[49m \u001b[48;2;254;255;112mpracticed\u001b[49m \u001b[48;2;254;254;66mat\u001b[49m \u001b[48;2;254;254;173mStanford\u001b[49m \u001b[48;2;255;255;209mUniversity\u001b[49m \u001b[48;2;255;255;249mand\u001b[49m \u001b[48;2;254;255;137mstayed\u001b[49m \u001b[48;2;254;254;173mat\u001b[49m \u001b[48;2;254;254;193mthe\u001b[49m \u001b[48;2;255;255;224mSanta\u001b[49m \u001b[48;2;255;255;244mClara\u001b[49m \u001b[48;2;255;255;219mMarriott\u001b[49m \u001b[48;2;255;255;188m.\u001b[49m\n"
     ]
    }
   ],
   "source": [
    "print_attributions(\n",
    "    tokens, attributions_ig, special=False\n",
    ")"
   ]
  },
  {
   "cell_type": "code",
   "execution_count": 9,
   "metadata": {},
   "outputs": [
    {
     "data": {
      "application/vnd.jupyter.widget-view+json": {
       "model_id": "607d74025c364560bed28e75954989d0",
       "version_major": 2,
       "version_minor": 0
      },
      "text/plain": [
       "HBox(children=(FloatProgress(value=0.0, max=7226.0), HTML(value='')))"
      ]
     },
     "metadata": {},
     "output_type": "display_data"
    },
    {
     "name": "stdout",
     "output_type": "stream",
     "text": [
      "\n"
     ]
    }
   ],
   "source": [
    "all_q_z_loc, all_q_z_scale = bert_hidden_states_statistics(model, input_only=True)"
   ]
  },
  {
   "cell_type": "code",
   "execution_count": 10,
   "metadata": {},
   "outputs": [
    {
     "data": {
      "application/vnd.jupyter.widget-view+json": {
       "model_id": "7ba38b65ac2f469b92b03e6a80b94517",
       "version_major": 2,
       "version_minor": 0
      },
      "text/plain": [
       "HBox(children=(FloatProgress(value=0.0, max=500.0), HTML(value='')))"
      ]
     },
     "metadata": {},
     "output_type": "display_data"
    },
    {
     "name": "stdout",
     "output_type": "stream",
     "text": [
      "\n"
     ]
    }
   ],
   "source": [
    "attributions_schulz = squad_bert_schulz_explainer(\n",
    "    model,\n",
    "    inputs_dict,\n",
    "    all_q_z_loc=all_q_z_loc,\n",
    "    all_q_z_scale=all_q_z_scale,\n",
    "    hidden_state_idx=0,\n",
    "    steps=500,\n",
    "    lr=1e-1,\n",
    "    la=10,\n",
    ")\n",
    "attributions_schulz = attributions_schulz[0,:inputs_dict[\"mask\"].sum()].cpu()"
   ]
  },
  {
   "cell_type": "code",
   "execution_count": 11,
   "metadata": {
    "scrolled": true
   },
   "outputs": [
    {
     "name": "stdout",
     "output_type": "stream",
     "text": [
      "\u001b[48;2;254;255;20mWhere\u001b[49m \u001b[48;2;254;255;15mdid\u001b[49m \u001b[48;2;255;255;244mthe\u001b[49m \u001b[48;2;224;224;0mBroncos\u001b[49m \u001b[48;2;188;188;0mpractice\u001b[49m \u001b[48;2;254;255;96mfor\u001b[49m \u001b[48;2;254;255;81mthe\u001b[49m \u001b[48;2;255;255;224mSuper\u001b[49m \u001b[48;2;255;255;219mBowl\u001b[49m \u001b[48;2;224;224;0m?\u001b[49m \u001b[48;2;255;255;224mThe\u001b[49m \u001b[48;2;255;255;224mPanthers\u001b[49m \u001b[48;2;255;255;244mused\u001b[49m \u001b[48;2;255;255;239mthe\u001b[49m \u001b[48;2;255;255;234mSan\u001b[49m \u001b[48;2;255;255;219mJose\u001b[49m \u001b[48;2;255;255;229mState\u001b[49m \u001b[48;2;255;255;239mpractice\u001b[49m \u001b[48;2;255;255;239mfacility\u001b[49m \u001b[48;2;255;255;229mand\u001b[49m \u001b[48;2;255;255;229mstayed\u001b[49m \u001b[48;2;255;255;224mat\u001b[49m \u001b[48;2;255;255;229mthe\u001b[49m \u001b[48;2;254;254;214mSan\u001b[49m \u001b[48;2;255;255;229mJose\u001b[49m \u001b[48;2;255;255;234mMarriott\u001b[49m \u001b[48;2;255;255;209m.\u001b[49m \u001b[48;2;255;255;188mThe\u001b[49m \u001b[48;2;219;219;0mBroncos\u001b[49m \u001b[48;2;254;255;153mpracticed\u001b[49m \u001b[48;2;244;244;0mat\u001b[49m \u001b[48;2;219;219;0mStanford\u001b[49m \u001b[48;2;178;178;0mUniversity\u001b[49m \u001b[48;2;254;254;35mand\u001b[49m \u001b[48;2;152;153;0mstayed\u001b[49m \u001b[48;2;255;255;239mat\u001b[49m \u001b[48;2;255;255;209mthe\u001b[49m \u001b[48;2;255;255;244mSanta\u001b[49m \u001b[48;2;255;255;244mClara\u001b[49m \u001b[48;2;255;255;244mMarriott\u001b[49m \u001b[48;2;255;255;239m.\u001b[49m\n"
     ]
    }
   ],
   "source": [
    "print_attributions(\n",
    "    tokens, attributions_schulz, special=False\n",
    ")"
   ]
  },
  {
   "cell_type": "code",
   "execution_count": 12,
   "metadata": {
    "scrolled": true
   },
   "outputs": [
    {
     "data": {
      "application/vnd.jupyter.widget-view+json": {
       "model_id": "0512fff7465e4bfeba52ce399c692aad",
       "version_major": 2,
       "version_minor": 0
      },
      "text/plain": [
       "HBox(children=(FloatProgress(value=0.0, max=500.0), HTML(value='')))"
      ]
     },
     "metadata": {},
     "output_type": "display_data"
    },
    {
     "name": "stdout",
     "output_type": "stream",
     "text": [
      "\n"
     ]
    }
   ],
   "source": [
    "attributions_guan = squad_bert_guan_explainer(\n",
    "    model,\n",
    "    inputs_dict,\n",
    "    hidden_state_idx=0,\n",
    "    steps=500,\n",
    "    lr=1e-1,\n",
    "    la=5\n",
    ")\n",
    "attributions_guan = 1 / attributions_guan[0,:inputs_dict[\"mask\"].sum()].cpu()"
   ]
  },
  {
   "cell_type": "code",
   "execution_count": 13,
   "metadata": {},
   "outputs": [
    {
     "name": "stdout",
     "output_type": "stream",
     "text": [
      "\u001b[48;2;255;255;255mWhere\u001b[49m \u001b[48;2;254;255;25mdid\u001b[49m \u001b[48;2;254;255;137mthe\u001b[49m \u001b[48;2;254;255;112mBroncos\u001b[49m \u001b[48;2;254;255;71mpractice\u001b[49m \u001b[48;2;255;255;255mfor\u001b[49m \u001b[48;2;254;255;132mthe\u001b[49m \u001b[48;2;255;255;255mSuper\u001b[49m \u001b[48;2;255;255;255mBowl\u001b[49m \u001b[48;2;254;255;122m?\u001b[49m \u001b[48;2;254;254;76mThe\u001b[49m \u001b[48;2;254;255;5mPanthers\u001b[49m \u001b[48;2;255;255;255mused\u001b[49m \u001b[48;2;255;255;219mthe\u001b[49m \u001b[48;2;254;255;142mSan\u001b[49m \u001b[48;2;255;255;255mJose\u001b[49m \u001b[48;2;254;255;158mState\u001b[49m \u001b[48;2;254;255;101mpractice\u001b[49m \u001b[48;2;254;255;112mfacility\u001b[49m \u001b[48;2;255;255;255mand\u001b[49m \u001b[48;2;255;255;255mstayed\u001b[49m \u001b[48;2;254;255;132mat\u001b[49m \u001b[48;2;254;254;183mthe\u001b[49m \u001b[48;2;255;255;255mSan\u001b[49m \u001b[48;2;255;255;255mJose\u001b[49m \u001b[48;2;255;255;255mMarriott\u001b[49m \u001b[48;2;255;255;255m.\u001b[49m \u001b[48;2;229;229;0mThe\u001b[49m \u001b[48;2;254;255;81mBroncos\u001b[49m \u001b[48;2;244;244;0mpracticed\u001b[49m \u001b[48;2;254;255;127mat\u001b[49m \u001b[48;2;254;255;142mStanford\u001b[49m \u001b[48;2;255;255;147mUniversity\u001b[49m \u001b[48;2;254;255;112mand\u001b[49m \u001b[48;2;254;255;142mstayed\u001b[49m \u001b[48;2;255;255;255mat\u001b[49m \u001b[48;2;255;255;255mthe\u001b[49m \u001b[48;2;255;255;219mSanta\u001b[49m \u001b[48;2;255;255;255mClara\u001b[49m \u001b[48;2;152;153;0mMarriott\u001b[49m \u001b[48;2;254;255;107m.\u001b[49m\n"
     ]
    }
   ],
   "source": [
    "print_attributions(\n",
    "    tokens, attributions_guan, special=False\n",
    ")"
   ]
  },
  {
   "cell_type": "code",
   "execution_count": null,
   "metadata": {},
   "outputs": [],
   "source": []
  },
  {
   "cell_type": "code",
   "execution_count": 14,
   "metadata": {},
   "outputs": [],
   "source": [
    "def gen_attention_masks(n, max_length):\n",
    "    if n == 0:\n",
    "        return [[0] * max_length]\n",
    "    elif n == max_length:\n",
    "        return [[1] * max_length]\n",
    "    else:\n",
    "        return [\n",
    "            [0] + e for e in gen_attention_masks(n=n, max_length=max_length - 1)] + [\n",
    "            [1] + e for e in gen_attention_masks(n=n - 1, max_length=max_length - 1)\n",
    "        ]"
   ]
  },
  {
   "cell_type": "code",
   "execution_count": 15,
   "metadata": {},
   "outputs": [
    {
     "name": "stdout",
     "output_type": "stream",
     "text": [
      "Trying N=2\n"
     ]
    },
    {
     "data": {
      "application/vnd.jupyter.widget-view+json": {
       "model_id": "bbd3ed91ba3f4e42b6457bb4aef0394d",
       "version_major": 2,
       "version_minor": 0
      },
      "text/plain": [
       "HBox(children=(FloatProgress(value=0.0, max=1.0), HTML(value='')))"
      ]
     },
     "metadata": {},
     "output_type": "display_data"
    },
    {
     "name": "stdout",
     "output_type": "stream",
     "text": [
      "\n",
      "No solutions with N=2\n",
      "Trying N=3\n"
     ]
    },
    {
     "data": {
      "application/vnd.jupyter.widget-view+json": {
       "model_id": "c1565c1bbf2d4a5d9424131552590e08",
       "version_major": 2,
       "version_minor": 0
      },
      "text/plain": [
       "HBox(children=(FloatProgress(value=0.0, max=1.0), HTML(value='')))"
      ]
     },
     "metadata": {},
     "output_type": "display_data"
    },
    {
     "name": "stdout",
     "output_type": "stream",
     "text": [
      "\n",
      "No solutions with N=3\n",
      "Trying N=4\n"
     ]
    },
    {
     "data": {
      "application/vnd.jupyter.widget-view+json": {
       "model_id": "c94631eb6d094151a9abb1794e217201",
       "version_major": 2,
       "version_minor": 0
      },
      "text/plain": [
       "HBox(children=(FloatProgress(value=0.0, max=7.0), HTML(value='')))"
      ]
     },
     "metadata": {},
     "output_type": "display_data"
    },
    {
     "name": "stdout",
     "output_type": "stream",
     "text": [
      "\n"
     ]
    }
   ],
   "source": [
    "logits_start_orig, logits_end_orig = model(**inputs_dict)\n",
    "answer = [e.argmax().item() for e in model(**inputs_dict)]\n",
    "\n",
    "for n in range(answer[1] - answer[0] + 1, 5):\n",
    "    print(\"Trying N={}\".format(n))\n",
    "    all_mask = torch.tensor(gen_attention_masks(n=n, max_length=44))\n",
    "    all_mask = all_mask[all_mask[:,answer[0]:answer[1] + 1].bool().all(-1)]\n",
    "    \n",
    "    solutions = []\n",
    "    with torch.no_grad():\n",
    "        t = tqdm(all_mask.split(128))\n",
    "        for mask in t:\n",
    "\n",
    "            logits_start, logits_end = model.net(**{\n",
    "                \"inputs_embeds\": model.net.bert.embeddings.word_embeddings(\n",
    "                    inputs_dict[\"input_ids\"]\n",
    "                ) * torch.nn.functional.pad(mask.to(device), (0, 384 - 44, 0, 0)).unsqueeze(-1),\n",
    "                \"attention_mask\": inputs_dict[\"mask\"],\n",
    "                \"token_type_ids\": inputs_dict[\"token_type_ids\"]\n",
    "            })\n",
    "            \n",
    "            logits_start, logits_end, logits_start_orig, logits_end_orig = tuple(\n",
    "                torch.where(inputs_dict['mask'].bool(), e, torch.full_like(e, -float(\"inf\")))\n",
    "                for e in (logits_start, logits_end, logits_start_orig, logits_end_orig)\n",
    "            )\n",
    "\n",
    "            loss_c = (\n",
    "                logits_start.argmax(-1) == logits_start_orig.argmax(-1)\n",
    "            ) & (\n",
    "                logits_end.argmax(-1) == logits_end_orig.argmax(-1)\n",
    "            )\n",
    "            \n",
    "            solutions += [e for e in mask[loss_c]]\n",
    "            t.set_postfix(solutions=len(solutions))\n",
    "    \n",
    "    if len(solutions) == 0:\n",
    "        print(\"No solutions with N={}\".format(n))\n",
    "    else:\n",
    "        break"
   ]
  },
  {
   "cell_type": "code",
   "execution_count": 18,
   "metadata": {
    "scrolled": false
   },
   "outputs": [
    {
     "name": "stdout",
     "output_type": "stream",
     "text": [
      "\u001b[48;2;255;255;255mWhere\u001b[49m \u001b[48;2;255;255;255mdid\u001b[49m \u001b[48;2;255;255;255mthe\u001b[49m \u001b[48;2;255;255;255mBroncos\u001b[49m \u001b[48;2;255;255;255mpractice\u001b[49m \u001b[48;2;255;255;255mfor\u001b[49m \u001b[48;2;255;255;255mthe\u001b[49m \u001b[48;2;255;255;255mSuper\u001b[49m \u001b[48;2;255;255;255mBowl\u001b[49m \u001b[48;2;255;255;255m?\u001b[49m \u001b[48;2;255;255;255mThe\u001b[49m \u001b[48;2;255;255;255mPanthers\u001b[49m \u001b[48;2;255;255;255mused\u001b[49m \u001b[48;2;255;255;255mthe\u001b[49m \u001b[48;2;255;255;255mSan\u001b[49m \u001b[48;2;255;255;255mJose\u001b[49m \u001b[48;2;255;255;255mState\u001b[49m \u001b[48;2;255;255;255mpractice\u001b[49m \u001b[48;2;255;255;255mfacility\u001b[49m \u001b[48;2;255;255;255mand\u001b[49m \u001b[48;2;255;255;255mstayed\u001b[49m \u001b[48;2;255;255;255mat\u001b[49m \u001b[48;2;255;255;255mthe\u001b[49m \u001b[48;2;255;255;255mSan\u001b[49m \u001b[48;2;255;255;255mJose\u001b[49m \u001b[48;2;255;255;255mMarriott\u001b[49m \u001b[48;2;255;255;255m.\u001b[49m \u001b[48;2;255;255;255mThe\u001b[49m \u001b[48;2;255;255;255mBroncos\u001b[49m \u001b[48;2;255;255;255mpracticed\u001b[49m \u001b[48;2;255;255;255mat\u001b[49m \u001b[48;2;152;153;0mStanford\u001b[49m \u001b[48;2;152;153;0mUniversity\u001b[49m \u001b[48;2;255;255;255mand\u001b[49m \u001b[48;2;255;255;255mstayed\u001b[49m \u001b[48;2;255;255;255mat\u001b[49m \u001b[48;2;255;255;255mthe\u001b[49m \u001b[48;2;255;255;255mSanta\u001b[49m \u001b[48;2;255;255;255mClara\u001b[49m \u001b[48;2;255;255;255mMarriott\u001b[49m \u001b[48;2;152;153;0m.\u001b[49m\n",
      "\u001b[48;2;255;255;255mWhere\u001b[49m \u001b[48;2;255;255;255mdid\u001b[49m \u001b[48;2;255;255;255mthe\u001b[49m \u001b[48;2;255;255;255mBroncos\u001b[49m \u001b[48;2;255;255;255mpractice\u001b[49m \u001b[48;2;255;255;255mfor\u001b[49m \u001b[48;2;255;255;255mthe\u001b[49m \u001b[48;2;255;255;255mSuper\u001b[49m \u001b[48;2;255;255;255mBowl\u001b[49m \u001b[48;2;255;255;255m?\u001b[49m \u001b[48;2;255;255;255mThe\u001b[49m \u001b[48;2;255;255;255mPanthers\u001b[49m \u001b[48;2;255;255;255mused\u001b[49m \u001b[48;2;255;255;255mthe\u001b[49m \u001b[48;2;255;255;255mSan\u001b[49m \u001b[48;2;255;255;255mJose\u001b[49m \u001b[48;2;255;255;255mState\u001b[49m \u001b[48;2;255;255;255mpractice\u001b[49m \u001b[48;2;255;255;255mfacility\u001b[49m \u001b[48;2;255;255;255mand\u001b[49m \u001b[48;2;255;255;255mstayed\u001b[49m \u001b[48;2;255;255;255mat\u001b[49m \u001b[48;2;255;255;255mthe\u001b[49m \u001b[48;2;255;255;255mSan\u001b[49m \u001b[48;2;255;255;255mJose\u001b[49m \u001b[48;2;255;255;255mMarriott\u001b[49m \u001b[48;2;255;255;255m.\u001b[49m \u001b[48;2;255;255;255mThe\u001b[49m \u001b[48;2;255;255;255mBroncos\u001b[49m \u001b[48;2;255;255;255mpracticed\u001b[49m \u001b[48;2;255;255;255mat\u001b[49m \u001b[48;2;152;153;0mStanford\u001b[49m \u001b[48;2;152;153;0mUniversity\u001b[49m \u001b[48;2;255;255;255mand\u001b[49m \u001b[48;2;255;255;255mstayed\u001b[49m \u001b[48;2;255;255;255mat\u001b[49m \u001b[48;2;255;255;255mthe\u001b[49m \u001b[48;2;255;255;255mSanta\u001b[49m \u001b[48;2;152;153;0mClara\u001b[49m \u001b[48;2;255;255;255mMarriott\u001b[49m \u001b[48;2;255;255;255m.\u001b[49m\n",
      "\u001b[48;2;255;255;255mWhere\u001b[49m \u001b[48;2;255;255;255mdid\u001b[49m \u001b[48;2;255;255;255mthe\u001b[49m \u001b[48;2;255;255;255mBroncos\u001b[49m \u001b[48;2;255;255;255mpractice\u001b[49m \u001b[48;2;255;255;255mfor\u001b[49m \u001b[48;2;255;255;255mthe\u001b[49m \u001b[48;2;255;255;255mSuper\u001b[49m \u001b[48;2;255;255;255mBowl\u001b[49m \u001b[48;2;255;255;255m?\u001b[49m \u001b[48;2;255;255;255mThe\u001b[49m \u001b[48;2;255;255;255mPanthers\u001b[49m \u001b[48;2;255;255;255mused\u001b[49m \u001b[48;2;255;255;255mthe\u001b[49m \u001b[48;2;255;255;255mSan\u001b[49m \u001b[48;2;255;255;255mJose\u001b[49m \u001b[48;2;255;255;255mState\u001b[49m \u001b[48;2;255;255;255mpractice\u001b[49m \u001b[48;2;255;255;255mfacility\u001b[49m \u001b[48;2;255;255;255mand\u001b[49m \u001b[48;2;255;255;255mstayed\u001b[49m \u001b[48;2;255;255;255mat\u001b[49m \u001b[48;2;255;255;255mthe\u001b[49m \u001b[48;2;255;255;255mSan\u001b[49m \u001b[48;2;255;255;255mJose\u001b[49m \u001b[48;2;255;255;255mMarriott\u001b[49m \u001b[48;2;255;255;255m.\u001b[49m \u001b[48;2;255;255;255mThe\u001b[49m \u001b[48;2;255;255;255mBroncos\u001b[49m \u001b[48;2;255;255;255mpracticed\u001b[49m \u001b[48;2;255;255;255mat\u001b[49m \u001b[48;2;152;153;0mStanford\u001b[49m \u001b[48;2;152;153;0mUniversity\u001b[49m \u001b[48;2;255;255;255mand\u001b[49m \u001b[48;2;255;255;255mstayed\u001b[49m \u001b[48;2;255;255;255mat\u001b[49m \u001b[48;2;255;255;255mthe\u001b[49m \u001b[48;2;152;153;0mSanta\u001b[49m \u001b[48;2;255;255;255mClara\u001b[49m \u001b[48;2;255;255;255mMarriott\u001b[49m \u001b[48;2;255;255;255m.\u001b[49m\n",
      "\u001b[48;2;255;255;255mWhere\u001b[49m \u001b[48;2;255;255;255mdid\u001b[49m \u001b[48;2;255;255;255mthe\u001b[49m \u001b[48;2;255;255;255mBroncos\u001b[49m \u001b[48;2;255;255;255mpractice\u001b[49m \u001b[48;2;255;255;255mfor\u001b[49m \u001b[48;2;255;255;255mthe\u001b[49m \u001b[48;2;255;255;255mSuper\u001b[49m \u001b[48;2;255;255;255mBowl\u001b[49m \u001b[48;2;255;255;255m?\u001b[49m \u001b[48;2;255;255;255mThe\u001b[49m \u001b[48;2;255;255;255mPanthers\u001b[49m \u001b[48;2;255;255;255mused\u001b[49m \u001b[48;2;255;255;255mthe\u001b[49m \u001b[48;2;255;255;255mSan\u001b[49m \u001b[48;2;255;255;255mJose\u001b[49m \u001b[48;2;255;255;255mState\u001b[49m \u001b[48;2;255;255;255mpractice\u001b[49m \u001b[48;2;255;255;255mfacility\u001b[49m \u001b[48;2;255;255;255mand\u001b[49m \u001b[48;2;255;255;255mstayed\u001b[49m \u001b[48;2;255;255;255mat\u001b[49m \u001b[48;2;255;255;255mthe\u001b[49m \u001b[48;2;255;255;255mSan\u001b[49m \u001b[48;2;255;255;255mJose\u001b[49m \u001b[48;2;255;255;255mMarriott\u001b[49m \u001b[48;2;255;255;255m.\u001b[49m \u001b[48;2;255;255;255mThe\u001b[49m \u001b[48;2;255;255;255mBroncos\u001b[49m \u001b[48;2;255;255;255mpracticed\u001b[49m \u001b[48;2;255;255;255mat\u001b[49m \u001b[48;2;152;153;0mStanford\u001b[49m \u001b[48;2;152;153;0mUniversity\u001b[49m \u001b[48;2;255;255;255mand\u001b[49m \u001b[48;2;152;153;0mstayed\u001b[49m \u001b[48;2;255;255;255mat\u001b[49m \u001b[48;2;255;255;255mthe\u001b[49m \u001b[48;2;255;255;255mSanta\u001b[49m \u001b[48;2;255;255;255mClara\u001b[49m \u001b[48;2;255;255;255mMarriott\u001b[49m \u001b[48;2;255;255;255m.\u001b[49m\n",
      "\u001b[48;2;255;255;255mWhere\u001b[49m \u001b[48;2;255;255;255mdid\u001b[49m \u001b[48;2;255;255;255mthe\u001b[49m \u001b[48;2;255;255;255mBroncos\u001b[49m \u001b[48;2;255;255;255mpractice\u001b[49m \u001b[48;2;255;255;255mfor\u001b[49m \u001b[48;2;255;255;255mthe\u001b[49m \u001b[48;2;255;255;255mSuper\u001b[49m \u001b[48;2;255;255;255mBowl\u001b[49m \u001b[48;2;255;255;255m?\u001b[49m \u001b[48;2;255;255;255mThe\u001b[49m \u001b[48;2;255;255;255mPanthers\u001b[49m \u001b[48;2;255;255;255mused\u001b[49m \u001b[48;2;255;255;255mthe\u001b[49m \u001b[48;2;255;255;255mSan\u001b[49m \u001b[48;2;255;255;255mJose\u001b[49m \u001b[48;2;255;255;255mState\u001b[49m \u001b[48;2;255;255;255mpractice\u001b[49m \u001b[48;2;255;255;255mfacility\u001b[49m \u001b[48;2;255;255;255mand\u001b[49m \u001b[48;2;255;255;255mstayed\u001b[49m \u001b[48;2;255;255;255mat\u001b[49m \u001b[48;2;255;255;255mthe\u001b[49m \u001b[48;2;255;255;255mSan\u001b[49m \u001b[48;2;255;255;255mJose\u001b[49m \u001b[48;2;255;255;255mMarriott\u001b[49m \u001b[48;2;255;255;255m.\u001b[49m \u001b[48;2;255;255;255mThe\u001b[49m \u001b[48;2;255;255;255mBroncos\u001b[49m \u001b[48;2;255;255;255mpracticed\u001b[49m \u001b[48;2;255;255;255mat\u001b[49m \u001b[48;2;152;153;0mStanford\u001b[49m \u001b[48;2;152;153;0mUniversity\u001b[49m \u001b[48;2;255;255;255mand\u001b[49m \u001b[48;2;152;153;0mstayed\u001b[49m \u001b[48;2;152;153;0mat\u001b[49m \u001b[48;2;255;255;255mthe\u001b[49m \u001b[48;2;255;255;255mSanta\u001b[49m \u001b[48;2;255;255;255mClara\u001b[49m \u001b[48;2;255;255;255mMarriott\u001b[49m \u001b[48;2;255;255;255m.\u001b[49m\n",
      "\u001b[48;2;255;255;255mWhere\u001b[49m \u001b[48;2;255;255;255mdid\u001b[49m \u001b[48;2;255;255;255mthe\u001b[49m \u001b[48;2;255;255;255mBroncos\u001b[49m \u001b[48;2;255;255;255mpractice\u001b[49m \u001b[48;2;255;255;255mfor\u001b[49m \u001b[48;2;255;255;255mthe\u001b[49m \u001b[48;2;255;255;255mSuper\u001b[49m \u001b[48;2;255;255;255mBowl\u001b[49m \u001b[48;2;255;255;255m?\u001b[49m \u001b[48;2;255;255;255mThe\u001b[49m \u001b[48;2;255;255;255mPanthers\u001b[49m \u001b[48;2;255;255;255mused\u001b[49m \u001b[48;2;255;255;255mthe\u001b[49m \u001b[48;2;255;255;255mSan\u001b[49m \u001b[48;2;255;255;255mJose\u001b[49m \u001b[48;2;255;255;255mState\u001b[49m \u001b[48;2;255;255;255mpractice\u001b[49m \u001b[48;2;255;255;255mfacility\u001b[49m \u001b[48;2;255;255;255mand\u001b[49m \u001b[48;2;255;255;255mstayed\u001b[49m \u001b[48;2;255;255;255mat\u001b[49m \u001b[48;2;255;255;255mthe\u001b[49m \u001b[48;2;255;255;255mSan\u001b[49m \u001b[48;2;255;255;255mJose\u001b[49m \u001b[48;2;255;255;255mMarriott\u001b[49m \u001b[48;2;152;153;0m.\u001b[49m \u001b[48;2;255;255;255mThe\u001b[49m \u001b[48;2;255;255;255mBroncos\u001b[49m \u001b[48;2;255;255;255mpracticed\u001b[49m \u001b[48;2;255;255;255mat\u001b[49m \u001b[48;2;152;153;0mStanford\u001b[49m \u001b[48;2;152;153;0mUniversity\u001b[49m \u001b[48;2;255;255;255mand\u001b[49m \u001b[48;2;255;255;255mstayed\u001b[49m \u001b[48;2;255;255;255mat\u001b[49m \u001b[48;2;255;255;255mthe\u001b[49m \u001b[48;2;255;255;255mSanta\u001b[49m \u001b[48;2;255;255;255mClara\u001b[49m \u001b[48;2;255;255;255mMarriott\u001b[49m \u001b[48;2;255;255;255m.\u001b[49m\n",
      "\u001b[48;2;255;255;255mWhere\u001b[49m \u001b[48;2;255;255;255mdid\u001b[49m \u001b[48;2;255;255;255mthe\u001b[49m \u001b[48;2;255;255;255mBroncos\u001b[49m \u001b[48;2;255;255;255mpractice\u001b[49m \u001b[48;2;255;255;255mfor\u001b[49m \u001b[48;2;255;255;255mthe\u001b[49m \u001b[48;2;255;255;255mSuper\u001b[49m \u001b[48;2;255;255;255mBowl\u001b[49m \u001b[48;2;255;255;255m?\u001b[49m \u001b[48;2;255;255;255mThe\u001b[49m \u001b[48;2;255;255;255mPanthers\u001b[49m \u001b[48;2;255;255;255mused\u001b[49m \u001b[48;2;255;255;255mthe\u001b[49m \u001b[48;2;255;255;255mSan\u001b[49m \u001b[48;2;255;255;255mJose\u001b[49m \u001b[48;2;255;255;255mState\u001b[49m \u001b[48;2;255;255;255mpractice\u001b[49m \u001b[48;2;255;255;255mfacility\u001b[49m \u001b[48;2;255;255;255mand\u001b[49m \u001b[48;2;255;255;255mstayed\u001b[49m \u001b[48;2;152;153;0mat\u001b[49m \u001b[48;2;255;255;255mthe\u001b[49m \u001b[48;2;255;255;255mSan\u001b[49m \u001b[48;2;255;255;255mJose\u001b[49m \u001b[48;2;255;255;255mMarriott\u001b[49m \u001b[48;2;255;255;255m.\u001b[49m \u001b[48;2;255;255;255mThe\u001b[49m \u001b[48;2;255;255;255mBroncos\u001b[49m \u001b[48;2;255;255;255mpracticed\u001b[49m \u001b[48;2;255;255;255mat\u001b[49m \u001b[48;2;152;153;0mStanford\u001b[49m \u001b[48;2;152;153;0mUniversity\u001b[49m \u001b[48;2;255;255;255mand\u001b[49m \u001b[48;2;255;255;255mstayed\u001b[49m \u001b[48;2;255;255;255mat\u001b[49m \u001b[48;2;255;255;255mthe\u001b[49m \u001b[48;2;255;255;255mSanta\u001b[49m \u001b[48;2;255;255;255mClara\u001b[49m \u001b[48;2;255;255;255mMarriott\u001b[49m \u001b[48;2;255;255;255m.\u001b[49m\n",
      "\u001b[48;2;255;255;255mWhere\u001b[49m \u001b[48;2;255;255;255mdid\u001b[49m \u001b[48;2;255;255;255mthe\u001b[49m \u001b[48;2;255;255;255mBroncos\u001b[49m \u001b[48;2;255;255;255mpractice\u001b[49m \u001b[48;2;255;255;255mfor\u001b[49m \u001b[48;2;255;255;255mthe\u001b[49m \u001b[48;2;255;255;255mSuper\u001b[49m \u001b[48;2;255;255;255mBowl\u001b[49m \u001b[48;2;255;255;255m?\u001b[49m \u001b[48;2;255;255;255mThe\u001b[49m \u001b[48;2;255;255;255mPanthers\u001b[49m \u001b[48;2;255;255;255mused\u001b[49m \u001b[48;2;255;255;255mthe\u001b[49m \u001b[48;2;255;255;255mSan\u001b[49m \u001b[48;2;255;255;255mJose\u001b[49m \u001b[48;2;255;255;255mState\u001b[49m \u001b[48;2;255;255;255mpractice\u001b[49m \u001b[48;2;255;255;255mfacility\u001b[49m \u001b[48;2;255;255;255mand\u001b[49m \u001b[48;2;152;153;0mstayed\u001b[49m \u001b[48;2;255;255;255mat\u001b[49m \u001b[48;2;255;255;255mthe\u001b[49m \u001b[48;2;255;255;255mSan\u001b[49m \u001b[48;2;255;255;255mJose\u001b[49m \u001b[48;2;255;255;255mMarriott\u001b[49m \u001b[48;2;255;255;255m.\u001b[49m \u001b[48;2;255;255;255mThe\u001b[49m \u001b[48;2;255;255;255mBroncos\u001b[49m \u001b[48;2;255;255;255mpracticed\u001b[49m \u001b[48;2;255;255;255mat\u001b[49m \u001b[48;2;152;153;0mStanford\u001b[49m \u001b[48;2;152;153;0mUniversity\u001b[49m \u001b[48;2;255;255;255mand\u001b[49m \u001b[48;2;152;153;0mstayed\u001b[49m \u001b[48;2;255;255;255mat\u001b[49m \u001b[48;2;255;255;255mthe\u001b[49m \u001b[48;2;255;255;255mSanta\u001b[49m \u001b[48;2;255;255;255mClara\u001b[49m \u001b[48;2;255;255;255mMarriott\u001b[49m \u001b[48;2;255;255;255m.\u001b[49m\n",
      "\u001b[48;2;255;255;255mWhere\u001b[49m \u001b[48;2;255;255;255mdid\u001b[49m \u001b[48;2;255;255;255mthe\u001b[49m \u001b[48;2;255;255;255mBroncos\u001b[49m \u001b[48;2;255;255;255mpractice\u001b[49m \u001b[48;2;255;255;255mfor\u001b[49m \u001b[48;2;255;255;255mthe\u001b[49m \u001b[48;2;255;255;255mSuper\u001b[49m \u001b[48;2;255;255;255mBowl\u001b[49m \u001b[48;2;255;255;255m?\u001b[49m \u001b[48;2;255;255;255mThe\u001b[49m \u001b[48;2;255;255;255mPanthers\u001b[49m \u001b[48;2;255;255;255mused\u001b[49m \u001b[48;2;255;255;255mthe\u001b[49m \u001b[48;2;152;153;0mSan\u001b[49m \u001b[48;2;255;255;255mJose\u001b[49m \u001b[48;2;255;255;255mState\u001b[49m \u001b[48;2;255;255;255mpractice\u001b[49m \u001b[48;2;255;255;255mfacility\u001b[49m \u001b[48;2;255;255;255mand\u001b[49m \u001b[48;2;255;255;255mstayed\u001b[49m \u001b[48;2;255;255;255mat\u001b[49m \u001b[48;2;255;255;255mthe\u001b[49m \u001b[48;2;255;255;255mSan\u001b[49m \u001b[48;2;255;255;255mJose\u001b[49m \u001b[48;2;255;255;255mMarriott\u001b[49m \u001b[48;2;255;255;255m.\u001b[49m \u001b[48;2;255;255;255mThe\u001b[49m \u001b[48;2;255;255;255mBroncos\u001b[49m \u001b[48;2;255;255;255mpracticed\u001b[49m \u001b[48;2;255;255;255mat\u001b[49m \u001b[48;2;152;153;0mStanford\u001b[49m \u001b[48;2;152;153;0mUniversity\u001b[49m \u001b[48;2;255;255;255mand\u001b[49m \u001b[48;2;255;255;255mstayed\u001b[49m \u001b[48;2;255;255;255mat\u001b[49m \u001b[48;2;255;255;255mthe\u001b[49m \u001b[48;2;255;255;255mSanta\u001b[49m \u001b[48;2;255;255;255mClara\u001b[49m \u001b[48;2;255;255;255mMarriott\u001b[49m \u001b[48;2;255;255;255m.\u001b[49m\n",
      "\u001b[48;2;255;255;255mWhere\u001b[49m \u001b[48;2;255;255;255mdid\u001b[49m \u001b[48;2;255;255;255mthe\u001b[49m \u001b[48;2;255;255;255mBroncos\u001b[49m \u001b[48;2;255;255;255mpractice\u001b[49m \u001b[48;2;255;255;255mfor\u001b[49m \u001b[48;2;255;255;255mthe\u001b[49m \u001b[48;2;255;255;255mSuper\u001b[49m \u001b[48;2;255;255;255mBowl\u001b[49m \u001b[48;2;255;255;255m?\u001b[49m \u001b[48;2;255;255;255mThe\u001b[49m \u001b[48;2;255;255;255mPanthers\u001b[49m \u001b[48;2;255;255;255mused\u001b[49m \u001b[48;2;255;255;255mthe\u001b[49m \u001b[48;2;152;153;0mSan\u001b[49m \u001b[48;2;255;255;255mJose\u001b[49m \u001b[48;2;255;255;255mState\u001b[49m \u001b[48;2;255;255;255mpractice\u001b[49m \u001b[48;2;255;255;255mfacility\u001b[49m \u001b[48;2;255;255;255mand\u001b[49m \u001b[48;2;255;255;255mstayed\u001b[49m \u001b[48;2;255;255;255mat\u001b[49m \u001b[48;2;255;255;255mthe\u001b[49m \u001b[48;2;255;255;255mSan\u001b[49m \u001b[48;2;255;255;255mJose\u001b[49m \u001b[48;2;255;255;255mMarriott\u001b[49m \u001b[48;2;255;255;255m.\u001b[49m \u001b[48;2;255;255;255mThe\u001b[49m \u001b[48;2;255;255;255mBroncos\u001b[49m \u001b[48;2;255;255;255mpracticed\u001b[49m \u001b[48;2;255;255;255mat\u001b[49m \u001b[48;2;152;153;0mStanford\u001b[49m \u001b[48;2;152;153;0mUniversity\u001b[49m \u001b[48;2;255;255;255mand\u001b[49m \u001b[48;2;152;153;0mstayed\u001b[49m \u001b[48;2;255;255;255mat\u001b[49m \u001b[48;2;255;255;255mthe\u001b[49m \u001b[48;2;255;255;255mSanta\u001b[49m \u001b[48;2;255;255;255mClara\u001b[49m \u001b[48;2;255;255;255mMarriott\u001b[49m \u001b[48;2;255;255;255m.\u001b[49m\n",
      "\u001b[48;2;255;255;255mWhere\u001b[49m \u001b[48;2;255;255;255mdid\u001b[49m \u001b[48;2;255;255;255mthe\u001b[49m \u001b[48;2;255;255;255mBroncos\u001b[49m \u001b[48;2;255;255;255mpractice\u001b[49m \u001b[48;2;255;255;255mfor\u001b[49m \u001b[48;2;255;255;255mthe\u001b[49m \u001b[48;2;255;255;255mSuper\u001b[49m \u001b[48;2;255;255;255mBowl\u001b[49m \u001b[48;2;255;255;255m?\u001b[49m \u001b[48;2;152;153;0mThe\u001b[49m \u001b[48;2;255;255;255mPanthers\u001b[49m \u001b[48;2;255;255;255mused\u001b[49m \u001b[48;2;255;255;255mthe\u001b[49m \u001b[48;2;255;255;255mSan\u001b[49m \u001b[48;2;255;255;255mJose\u001b[49m \u001b[48;2;255;255;255mState\u001b[49m \u001b[48;2;255;255;255mpractice\u001b[49m \u001b[48;2;255;255;255mfacility\u001b[49m \u001b[48;2;255;255;255mand\u001b[49m \u001b[48;2;255;255;255mstayed\u001b[49m \u001b[48;2;255;255;255mat\u001b[49m \u001b[48;2;255;255;255mthe\u001b[49m \u001b[48;2;255;255;255mSan\u001b[49m \u001b[48;2;255;255;255mJose\u001b[49m \u001b[48;2;255;255;255mMarriott\u001b[49m \u001b[48;2;255;255;255m.\u001b[49m \u001b[48;2;255;255;255mThe\u001b[49m \u001b[48;2;255;255;255mBroncos\u001b[49m \u001b[48;2;255;255;255mpracticed\u001b[49m \u001b[48;2;255;255;255mat\u001b[49m \u001b[48;2;152;153;0mStanford\u001b[49m \u001b[48;2;152;153;0mUniversity\u001b[49m \u001b[48;2;255;255;255mand\u001b[49m \u001b[48;2;255;255;255mstayed\u001b[49m \u001b[48;2;255;255;255mat\u001b[49m \u001b[48;2;255;255;255mthe\u001b[49m \u001b[48;2;255;255;255mSanta\u001b[49m \u001b[48;2;255;255;255mClara\u001b[49m \u001b[48;2;255;255;255mMarriott\u001b[49m \u001b[48;2;255;255;255m.\u001b[49m\n",
      "\u001b[48;2;255;255;255mWhere\u001b[49m \u001b[48;2;255;255;255mdid\u001b[49m \u001b[48;2;255;255;255mthe\u001b[49m \u001b[48;2;255;255;255mBroncos\u001b[49m \u001b[48;2;255;255;255mpractice\u001b[49m \u001b[48;2;255;255;255mfor\u001b[49m \u001b[48;2;255;255;255mthe\u001b[49m \u001b[48;2;255;255;255mSuper\u001b[49m \u001b[48;2;255;255;255mBowl\u001b[49m \u001b[48;2;255;255;255m?\u001b[49m \u001b[48;2;255;255;255mThe\u001b[49m \u001b[48;2;255;255;255mPanthers\u001b[49m \u001b[48;2;255;255;255mused\u001b[49m \u001b[48;2;255;255;255mthe\u001b[49m \u001b[48;2;255;255;255mSan\u001b[49m \u001b[48;2;255;255;255mJose\u001b[49m \u001b[48;2;255;255;255mState\u001b[49m \u001b[48;2;255;255;255mpractice\u001b[49m \u001b[48;2;255;255;255mfacility\u001b[49m \u001b[48;2;255;255;255mand\u001b[49m \u001b[48;2;255;255;255mstayed\u001b[49m \u001b[48;2;255;255;255mat\u001b[49m \u001b[48;2;255;255;255mthe\u001b[49m \u001b[48;2;255;255;255mSan\u001b[49m \u001b[48;2;255;255;255mJose\u001b[49m \u001b[48;2;255;255;255mMarriott\u001b[49m \u001b[48;2;255;255;255m.\u001b[49m \u001b[48;2;255;255;255mThe\u001b[49m \u001b[48;2;255;255;255mBroncos\u001b[49m \u001b[48;2;255;255;255mpracticed\u001b[49m \u001b[48;2;255;255;255mat\u001b[49m \u001b[48;2;152;153;0mStanford\u001b[49m \u001b[48;2;152;153;0mUniversity\u001b[49m \u001b[48;2;255;255;255mand\u001b[49m \u001b[48;2;255;255;255mstayed\u001b[49m \u001b[48;2;255;255;255mat\u001b[49m \u001b[48;2;255;255;255mthe\u001b[49m \u001b[48;2;255;255;255mSanta\u001b[49m \u001b[48;2;152;153;0mClara\u001b[49m \u001b[48;2;255;255;255mMarriott\u001b[49m \u001b[48;2;255;255;255m.\u001b[49m\n",
      "\u001b[48;2;255;255;255mWhere\u001b[49m \u001b[48;2;255;255;255mdid\u001b[49m \u001b[48;2;255;255;255mthe\u001b[49m \u001b[48;2;255;255;255mBroncos\u001b[49m \u001b[48;2;255;255;255mpractice\u001b[49m \u001b[48;2;255;255;255mfor\u001b[49m \u001b[48;2;255;255;255mthe\u001b[49m \u001b[48;2;255;255;255mSuper\u001b[49m \u001b[48;2;255;255;255mBowl\u001b[49m \u001b[48;2;255;255;255m?\u001b[49m \u001b[48;2;255;255;255mThe\u001b[49m \u001b[48;2;255;255;255mPanthers\u001b[49m \u001b[48;2;255;255;255mused\u001b[49m \u001b[48;2;255;255;255mthe\u001b[49m \u001b[48;2;255;255;255mSan\u001b[49m \u001b[48;2;255;255;255mJose\u001b[49m \u001b[48;2;255;255;255mState\u001b[49m \u001b[48;2;255;255;255mpractice\u001b[49m \u001b[48;2;255;255;255mfacility\u001b[49m \u001b[48;2;255;255;255mand\u001b[49m \u001b[48;2;255;255;255mstayed\u001b[49m \u001b[48;2;255;255;255mat\u001b[49m \u001b[48;2;255;255;255mthe\u001b[49m \u001b[48;2;255;255;255mSan\u001b[49m \u001b[48;2;255;255;255mJose\u001b[49m \u001b[48;2;255;255;255mMarriott\u001b[49m \u001b[48;2;255;255;255m.\u001b[49m \u001b[48;2;255;255;255mThe\u001b[49m \u001b[48;2;255;255;255mBroncos\u001b[49m \u001b[48;2;255;255;255mpracticed\u001b[49m \u001b[48;2;255;255;255mat\u001b[49m \u001b[48;2;152;153;0mStanford\u001b[49m \u001b[48;2;152;153;0mUniversity\u001b[49m \u001b[48;2;255;255;255mand\u001b[49m \u001b[48;2;255;255;255mstayed\u001b[49m \u001b[48;2;255;255;255mat\u001b[49m \u001b[48;2;255;255;255mthe\u001b[49m \u001b[48;2;152;153;0mSanta\u001b[49m \u001b[48;2;255;255;255mClara\u001b[49m \u001b[48;2;255;255;255mMarriott\u001b[49m \u001b[48;2;255;255;255m.\u001b[49m\n",
      "\u001b[48;2;255;255;255mWhere\u001b[49m \u001b[48;2;255;255;255mdid\u001b[49m \u001b[48;2;255;255;255mthe\u001b[49m \u001b[48;2;255;255;255mBroncos\u001b[49m \u001b[48;2;255;255;255mpractice\u001b[49m \u001b[48;2;255;255;255mfor\u001b[49m \u001b[48;2;255;255;255mthe\u001b[49m \u001b[48;2;255;255;255mSuper\u001b[49m \u001b[48;2;255;255;255mBowl\u001b[49m \u001b[48;2;255;255;255m?\u001b[49m \u001b[48;2;255;255;255mThe\u001b[49m \u001b[48;2;255;255;255mPanthers\u001b[49m \u001b[48;2;255;255;255mused\u001b[49m \u001b[48;2;255;255;255mthe\u001b[49m \u001b[48;2;255;255;255mSan\u001b[49m \u001b[48;2;255;255;255mJose\u001b[49m \u001b[48;2;255;255;255mState\u001b[49m \u001b[48;2;255;255;255mpractice\u001b[49m \u001b[48;2;255;255;255mfacility\u001b[49m \u001b[48;2;255;255;255mand\u001b[49m \u001b[48;2;255;255;255mstayed\u001b[49m \u001b[48;2;255;255;255mat\u001b[49m \u001b[48;2;255;255;255mthe\u001b[49m \u001b[48;2;255;255;255mSan\u001b[49m \u001b[48;2;255;255;255mJose\u001b[49m \u001b[48;2;255;255;255mMarriott\u001b[49m \u001b[48;2;255;255;255m.\u001b[49m \u001b[48;2;255;255;255mThe\u001b[49m \u001b[48;2;255;255;255mBroncos\u001b[49m \u001b[48;2;255;255;255mpracticed\u001b[49m \u001b[48;2;255;255;255mat\u001b[49m \u001b[48;2;152;153;0mStanford\u001b[49m \u001b[48;2;152;153;0mUniversity\u001b[49m \u001b[48;2;255;255;255mand\u001b[49m \u001b[48;2;255;255;255mstayed\u001b[49m \u001b[48;2;255;255;255mat\u001b[49m \u001b[48;2;152;153;0mthe\u001b[49m \u001b[48;2;255;255;255mSanta\u001b[49m \u001b[48;2;255;255;255mClara\u001b[49m \u001b[48;2;255;255;255mMarriott\u001b[49m \u001b[48;2;255;255;255m.\u001b[49m\n",
      "\u001b[48;2;255;255;255mWhere\u001b[49m \u001b[48;2;255;255;255mdid\u001b[49m \u001b[48;2;255;255;255mthe\u001b[49m \u001b[48;2;255;255;255mBroncos\u001b[49m \u001b[48;2;255;255;255mpractice\u001b[49m \u001b[48;2;255;255;255mfor\u001b[49m \u001b[48;2;255;255;255mthe\u001b[49m \u001b[48;2;255;255;255mSuper\u001b[49m \u001b[48;2;255;255;255mBowl\u001b[49m \u001b[48;2;255;255;255m?\u001b[49m \u001b[48;2;255;255;255mThe\u001b[49m \u001b[48;2;255;255;255mPanthers\u001b[49m \u001b[48;2;255;255;255mused\u001b[49m \u001b[48;2;255;255;255mthe\u001b[49m \u001b[48;2;255;255;255mSan\u001b[49m \u001b[48;2;255;255;255mJose\u001b[49m \u001b[48;2;255;255;255mState\u001b[49m \u001b[48;2;255;255;255mpractice\u001b[49m \u001b[48;2;255;255;255mfacility\u001b[49m \u001b[48;2;255;255;255mand\u001b[49m \u001b[48;2;255;255;255mstayed\u001b[49m \u001b[48;2;255;255;255mat\u001b[49m \u001b[48;2;255;255;255mthe\u001b[49m \u001b[48;2;255;255;255mSan\u001b[49m \u001b[48;2;255;255;255mJose\u001b[49m \u001b[48;2;255;255;255mMarriott\u001b[49m \u001b[48;2;255;255;255m.\u001b[49m \u001b[48;2;255;255;255mThe\u001b[49m \u001b[48;2;255;255;255mBroncos\u001b[49m \u001b[48;2;255;255;255mpracticed\u001b[49m \u001b[48;2;255;255;255mat\u001b[49m \u001b[48;2;152;153;0mStanford\u001b[49m \u001b[48;2;152;153;0mUniversity\u001b[49m \u001b[48;2;255;255;255mand\u001b[49m \u001b[48;2;255;255;255mstayed\u001b[49m \u001b[48;2;152;153;0mat\u001b[49m \u001b[48;2;255;255;255mthe\u001b[49m \u001b[48;2;255;255;255mSanta\u001b[49m \u001b[48;2;255;255;255mClara\u001b[49m \u001b[48;2;255;255;255mMarriott\u001b[49m \u001b[48;2;255;255;255m.\u001b[49m\n",
      "\u001b[48;2;255;255;255mWhere\u001b[49m \u001b[48;2;255;255;255mdid\u001b[49m \u001b[48;2;255;255;255mthe\u001b[49m \u001b[48;2;255;255;255mBroncos\u001b[49m \u001b[48;2;255;255;255mpractice\u001b[49m \u001b[48;2;255;255;255mfor\u001b[49m \u001b[48;2;255;255;255mthe\u001b[49m \u001b[48;2;255;255;255mSuper\u001b[49m \u001b[48;2;255;255;255mBowl\u001b[49m \u001b[48;2;255;255;255m?\u001b[49m \u001b[48;2;255;255;255mThe\u001b[49m \u001b[48;2;255;255;255mPanthers\u001b[49m \u001b[48;2;255;255;255mused\u001b[49m \u001b[48;2;255;255;255mthe\u001b[49m \u001b[48;2;255;255;255mSan\u001b[49m \u001b[48;2;255;255;255mJose\u001b[49m \u001b[48;2;255;255;255mState\u001b[49m \u001b[48;2;255;255;255mpractice\u001b[49m \u001b[48;2;255;255;255mfacility\u001b[49m \u001b[48;2;255;255;255mand\u001b[49m \u001b[48;2;255;255;255mstayed\u001b[49m \u001b[48;2;255;255;255mat\u001b[49m \u001b[48;2;255;255;255mthe\u001b[49m \u001b[48;2;255;255;255mSan\u001b[49m \u001b[48;2;255;255;255mJose\u001b[49m \u001b[48;2;255;255;255mMarriott\u001b[49m \u001b[48;2;255;255;255m.\u001b[49m \u001b[48;2;255;255;255mThe\u001b[49m \u001b[48;2;255;255;255mBroncos\u001b[49m \u001b[48;2;255;255;255mpracticed\u001b[49m \u001b[48;2;255;255;255mat\u001b[49m \u001b[48;2;152;153;0mStanford\u001b[49m \u001b[48;2;152;153;0mUniversity\u001b[49m \u001b[48;2;255;255;255mand\u001b[49m \u001b[48;2;152;153;0mstayed\u001b[49m \u001b[48;2;255;255;255mat\u001b[49m \u001b[48;2;255;255;255mthe\u001b[49m \u001b[48;2;255;255;255mSanta\u001b[49m \u001b[48;2;255;255;255mClara\u001b[49m \u001b[48;2;255;255;255mMarriott\u001b[49m \u001b[48;2;255;255;255m.\u001b[49m\n",
      "\u001b[48;2;255;255;255mWhere\u001b[49m \u001b[48;2;255;255;255mdid\u001b[49m \u001b[48;2;255;255;255mthe\u001b[49m \u001b[48;2;255;255;255mBroncos\u001b[49m \u001b[48;2;255;255;255mpractice\u001b[49m \u001b[48;2;255;255;255mfor\u001b[49m \u001b[48;2;255;255;255mthe\u001b[49m \u001b[48;2;255;255;255mSuper\u001b[49m \u001b[48;2;255;255;255mBowl\u001b[49m \u001b[48;2;255;255;255m?\u001b[49m \u001b[48;2;255;255;255mThe\u001b[49m \u001b[48;2;255;255;255mPanthers\u001b[49m \u001b[48;2;255;255;255mused\u001b[49m \u001b[48;2;255;255;255mthe\u001b[49m \u001b[48;2;255;255;255mSan\u001b[49m \u001b[48;2;255;255;255mJose\u001b[49m \u001b[48;2;255;255;255mState\u001b[49m \u001b[48;2;255;255;255mpractice\u001b[49m \u001b[48;2;255;255;255mfacility\u001b[49m \u001b[48;2;255;255;255mand\u001b[49m \u001b[48;2;255;255;255mstayed\u001b[49m \u001b[48;2;255;255;255mat\u001b[49m \u001b[48;2;255;255;255mthe\u001b[49m \u001b[48;2;255;255;255mSan\u001b[49m \u001b[48;2;255;255;255mJose\u001b[49m \u001b[48;2;255;255;255mMarriott\u001b[49m \u001b[48;2;255;255;255m.\u001b[49m \u001b[48;2;152;153;0mThe\u001b[49m \u001b[48;2;255;255;255mBroncos\u001b[49m \u001b[48;2;255;255;255mpracticed\u001b[49m \u001b[48;2;255;255;255mat\u001b[49m \u001b[48;2;152;153;0mStanford\u001b[49m \u001b[48;2;152;153;0mUniversity\u001b[49m \u001b[48;2;255;255;255mand\u001b[49m \u001b[48;2;255;255;255mstayed\u001b[49m \u001b[48;2;255;255;255mat\u001b[49m \u001b[48;2;255;255;255mthe\u001b[49m \u001b[48;2;255;255;255mSanta\u001b[49m \u001b[48;2;255;255;255mClara\u001b[49m \u001b[48;2;255;255;255mMarriott\u001b[49m \u001b[48;2;255;255;255m.\u001b[49m\n",
      "\u001b[48;2;255;255;255mWhere\u001b[49m \u001b[48;2;255;255;255mdid\u001b[49m \u001b[48;2;255;255;255mthe\u001b[49m \u001b[48;2;255;255;255mBroncos\u001b[49m \u001b[48;2;255;255;255mpractice\u001b[49m \u001b[48;2;255;255;255mfor\u001b[49m \u001b[48;2;255;255;255mthe\u001b[49m \u001b[48;2;255;255;255mSuper\u001b[49m \u001b[48;2;255;255;255mBowl\u001b[49m \u001b[48;2;255;255;255m?\u001b[49m \u001b[48;2;255;255;255mThe\u001b[49m \u001b[48;2;255;255;255mPanthers\u001b[49m \u001b[48;2;255;255;255mused\u001b[49m \u001b[48;2;255;255;255mthe\u001b[49m \u001b[48;2;255;255;255mSan\u001b[49m \u001b[48;2;255;255;255mJose\u001b[49m \u001b[48;2;255;255;255mState\u001b[49m \u001b[48;2;255;255;255mpractice\u001b[49m \u001b[48;2;255;255;255mfacility\u001b[49m \u001b[48;2;255;255;255mand\u001b[49m \u001b[48;2;255;255;255mstayed\u001b[49m \u001b[48;2;255;255;255mat\u001b[49m \u001b[48;2;255;255;255mthe\u001b[49m \u001b[48;2;255;255;255mSan\u001b[49m \u001b[48;2;255;255;255mJose\u001b[49m \u001b[48;2;255;255;255mMarriott\u001b[49m \u001b[48;2;152;153;0m.\u001b[49m \u001b[48;2;255;255;255mThe\u001b[49m \u001b[48;2;255;255;255mBroncos\u001b[49m \u001b[48;2;255;255;255mpracticed\u001b[49m \u001b[48;2;255;255;255mat\u001b[49m \u001b[48;2;152;153;0mStanford\u001b[49m \u001b[48;2;152;153;0mUniversity\u001b[49m \u001b[48;2;255;255;255mand\u001b[49m \u001b[48;2;255;255;255mstayed\u001b[49m \u001b[48;2;255;255;255mat\u001b[49m \u001b[48;2;255;255;255mthe\u001b[49m \u001b[48;2;255;255;255mSanta\u001b[49m \u001b[48;2;255;255;255mClara\u001b[49m \u001b[48;2;255;255;255mMarriott\u001b[49m \u001b[48;2;255;255;255m.\u001b[49m\n",
      "\u001b[48;2;255;255;255mWhere\u001b[49m \u001b[48;2;255;255;255mdid\u001b[49m \u001b[48;2;255;255;255mthe\u001b[49m \u001b[48;2;255;255;255mBroncos\u001b[49m \u001b[48;2;255;255;255mpractice\u001b[49m \u001b[48;2;255;255;255mfor\u001b[49m \u001b[48;2;255;255;255mthe\u001b[49m \u001b[48;2;255;255;255mSuper\u001b[49m \u001b[48;2;255;255;255mBowl\u001b[49m \u001b[48;2;255;255;255m?\u001b[49m \u001b[48;2;255;255;255mThe\u001b[49m \u001b[48;2;255;255;255mPanthers\u001b[49m \u001b[48;2;255;255;255mused\u001b[49m \u001b[48;2;255;255;255mthe\u001b[49m \u001b[48;2;255;255;255mSan\u001b[49m \u001b[48;2;255;255;255mJose\u001b[49m \u001b[48;2;255;255;255mState\u001b[49m \u001b[48;2;255;255;255mpractice\u001b[49m \u001b[48;2;255;255;255mfacility\u001b[49m \u001b[48;2;255;255;255mand\u001b[49m \u001b[48;2;255;255;255mstayed\u001b[49m \u001b[48;2;255;255;255mat\u001b[49m \u001b[48;2;255;255;255mthe\u001b[49m \u001b[48;2;152;153;0mSan\u001b[49m \u001b[48;2;255;255;255mJose\u001b[49m \u001b[48;2;255;255;255mMarriott\u001b[49m \u001b[48;2;255;255;255m.\u001b[49m \u001b[48;2;255;255;255mThe\u001b[49m \u001b[48;2;255;255;255mBroncos\u001b[49m \u001b[48;2;255;255;255mpracticed\u001b[49m \u001b[48;2;255;255;255mat\u001b[49m \u001b[48;2;152;153;0mStanford\u001b[49m \u001b[48;2;152;153;0mUniversity\u001b[49m \u001b[48;2;255;255;255mand\u001b[49m \u001b[48;2;255;255;255mstayed\u001b[49m \u001b[48;2;255;255;255mat\u001b[49m \u001b[48;2;255;255;255mthe\u001b[49m \u001b[48;2;255;255;255mSanta\u001b[49m \u001b[48;2;255;255;255mClara\u001b[49m \u001b[48;2;255;255;255mMarriott\u001b[49m \u001b[48;2;255;255;255m.\u001b[49m\n",
      "\u001b[48;2;255;255;255mWhere\u001b[49m \u001b[48;2;255;255;255mdid\u001b[49m \u001b[48;2;255;255;255mthe\u001b[49m \u001b[48;2;255;255;255mBroncos\u001b[49m \u001b[48;2;255;255;255mpractice\u001b[49m \u001b[48;2;255;255;255mfor\u001b[49m \u001b[48;2;255;255;255mthe\u001b[49m \u001b[48;2;255;255;255mSuper\u001b[49m \u001b[48;2;255;255;255mBowl\u001b[49m \u001b[48;2;255;255;255m?\u001b[49m \u001b[48;2;255;255;255mThe\u001b[49m \u001b[48;2;255;255;255mPanthers\u001b[49m \u001b[48;2;255;255;255mused\u001b[49m \u001b[48;2;255;255;255mthe\u001b[49m \u001b[48;2;255;255;255mSan\u001b[49m \u001b[48;2;255;255;255mJose\u001b[49m \u001b[48;2;255;255;255mState\u001b[49m \u001b[48;2;255;255;255mpractice\u001b[49m \u001b[48;2;255;255;255mfacility\u001b[49m \u001b[48;2;255;255;255mand\u001b[49m \u001b[48;2;255;255;255mstayed\u001b[49m \u001b[48;2;255;255;255mat\u001b[49m \u001b[48;2;152;153;0mthe\u001b[49m \u001b[48;2;255;255;255mSan\u001b[49m \u001b[48;2;255;255;255mJose\u001b[49m \u001b[48;2;255;255;255mMarriott\u001b[49m \u001b[48;2;255;255;255m.\u001b[49m \u001b[48;2;255;255;255mThe\u001b[49m \u001b[48;2;255;255;255mBroncos\u001b[49m \u001b[48;2;255;255;255mpracticed\u001b[49m \u001b[48;2;255;255;255mat\u001b[49m \u001b[48;2;152;153;0mStanford\u001b[49m \u001b[48;2;152;153;0mUniversity\u001b[49m \u001b[48;2;255;255;255mand\u001b[49m \u001b[48;2;255;255;255mstayed\u001b[49m \u001b[48;2;255;255;255mat\u001b[49m \u001b[48;2;255;255;255mthe\u001b[49m \u001b[48;2;255;255;255mSanta\u001b[49m \u001b[48;2;255;255;255mClara\u001b[49m \u001b[48;2;255;255;255mMarriott\u001b[49m \u001b[48;2;255;255;255m.\u001b[49m\n",
      "\u001b[48;2;255;255;255mWhere\u001b[49m \u001b[48;2;255;255;255mdid\u001b[49m \u001b[48;2;255;255;255mthe\u001b[49m \u001b[48;2;255;255;255mBroncos\u001b[49m \u001b[48;2;255;255;255mpractice\u001b[49m \u001b[48;2;255;255;255mfor\u001b[49m \u001b[48;2;255;255;255mthe\u001b[49m \u001b[48;2;255;255;255mSuper\u001b[49m \u001b[48;2;255;255;255mBowl\u001b[49m \u001b[48;2;255;255;255m?\u001b[49m \u001b[48;2;255;255;255mThe\u001b[49m \u001b[48;2;255;255;255mPanthers\u001b[49m \u001b[48;2;255;255;255mused\u001b[49m \u001b[48;2;255;255;255mthe\u001b[49m \u001b[48;2;255;255;255mSan\u001b[49m \u001b[48;2;255;255;255mJose\u001b[49m \u001b[48;2;255;255;255mState\u001b[49m \u001b[48;2;255;255;255mpractice\u001b[49m \u001b[48;2;255;255;255mfacility\u001b[49m \u001b[48;2;255;255;255mand\u001b[49m \u001b[48;2;255;255;255mstayed\u001b[49m \u001b[48;2;152;153;0mat\u001b[49m \u001b[48;2;255;255;255mthe\u001b[49m \u001b[48;2;255;255;255mSan\u001b[49m \u001b[48;2;255;255;255mJose\u001b[49m \u001b[48;2;255;255;255mMarriott\u001b[49m \u001b[48;2;255;255;255m.\u001b[49m \u001b[48;2;255;255;255mThe\u001b[49m \u001b[48;2;255;255;255mBroncos\u001b[49m \u001b[48;2;255;255;255mpracticed\u001b[49m \u001b[48;2;255;255;255mat\u001b[49m \u001b[48;2;152;153;0mStanford\u001b[49m \u001b[48;2;152;153;0mUniversity\u001b[49m \u001b[48;2;255;255;255mand\u001b[49m \u001b[48;2;255;255;255mstayed\u001b[49m \u001b[48;2;255;255;255mat\u001b[49m \u001b[48;2;255;255;255mthe\u001b[49m \u001b[48;2;255;255;255mSanta\u001b[49m \u001b[48;2;255;255;255mClara\u001b[49m \u001b[48;2;255;255;255mMarriott\u001b[49m \u001b[48;2;255;255;255m.\u001b[49m\n",
      "\u001b[48;2;255;255;255mWhere\u001b[49m \u001b[48;2;255;255;255mdid\u001b[49m \u001b[48;2;255;255;255mthe\u001b[49m \u001b[48;2;255;255;255mBroncos\u001b[49m \u001b[48;2;255;255;255mpractice\u001b[49m \u001b[48;2;255;255;255mfor\u001b[49m \u001b[48;2;255;255;255mthe\u001b[49m \u001b[48;2;255;255;255mSuper\u001b[49m \u001b[48;2;255;255;255mBowl\u001b[49m \u001b[48;2;255;255;255m?\u001b[49m \u001b[48;2;255;255;255mThe\u001b[49m \u001b[48;2;255;255;255mPanthers\u001b[49m \u001b[48;2;255;255;255mused\u001b[49m \u001b[48;2;255;255;255mthe\u001b[49m \u001b[48;2;255;255;255mSan\u001b[49m \u001b[48;2;255;255;255mJose\u001b[49m \u001b[48;2;255;255;255mState\u001b[49m \u001b[48;2;255;255;255mpractice\u001b[49m \u001b[48;2;255;255;255mfacility\u001b[49m \u001b[48;2;152;153;0mand\u001b[49m \u001b[48;2;255;255;255mstayed\u001b[49m \u001b[48;2;255;255;255mat\u001b[49m \u001b[48;2;255;255;255mthe\u001b[49m \u001b[48;2;255;255;255mSan\u001b[49m \u001b[48;2;255;255;255mJose\u001b[49m \u001b[48;2;255;255;255mMarriott\u001b[49m \u001b[48;2;255;255;255m.\u001b[49m \u001b[48;2;255;255;255mThe\u001b[49m \u001b[48;2;255;255;255mBroncos\u001b[49m \u001b[48;2;255;255;255mpracticed\u001b[49m \u001b[48;2;255;255;255mat\u001b[49m \u001b[48;2;152;153;0mStanford\u001b[49m \u001b[48;2;152;153;0mUniversity\u001b[49m \u001b[48;2;255;255;255mand\u001b[49m \u001b[48;2;255;255;255mstayed\u001b[49m \u001b[48;2;255;255;255mat\u001b[49m \u001b[48;2;255;255;255mthe\u001b[49m \u001b[48;2;255;255;255mSanta\u001b[49m \u001b[48;2;255;255;255mClara\u001b[49m \u001b[48;2;255;255;255mMarriott\u001b[49m \u001b[48;2;255;255;255m.\u001b[49m\n",
      "\u001b[48;2;255;255;255mWhere\u001b[49m \u001b[48;2;255;255;255mdid\u001b[49m \u001b[48;2;255;255;255mthe\u001b[49m \u001b[48;2;255;255;255mBroncos\u001b[49m \u001b[48;2;255;255;255mpractice\u001b[49m \u001b[48;2;255;255;255mfor\u001b[49m \u001b[48;2;255;255;255mthe\u001b[49m \u001b[48;2;255;255;255mSuper\u001b[49m \u001b[48;2;255;255;255mBowl\u001b[49m \u001b[48;2;255;255;255m?\u001b[49m \u001b[48;2;255;255;255mThe\u001b[49m \u001b[48;2;255;255;255mPanthers\u001b[49m \u001b[48;2;255;255;255mused\u001b[49m \u001b[48;2;255;255;255mthe\u001b[49m \u001b[48;2;255;255;255mSan\u001b[49m \u001b[48;2;255;255;255mJose\u001b[49m \u001b[48;2;255;255;255mState\u001b[49m \u001b[48;2;255;255;255mpractice\u001b[49m \u001b[48;2;152;153;0mfacility\u001b[49m \u001b[48;2;255;255;255mand\u001b[49m \u001b[48;2;255;255;255mstayed\u001b[49m \u001b[48;2;255;255;255mat\u001b[49m \u001b[48;2;255;255;255mthe\u001b[49m \u001b[48;2;255;255;255mSan\u001b[49m \u001b[48;2;255;255;255mJose\u001b[49m \u001b[48;2;255;255;255mMarriott\u001b[49m \u001b[48;2;255;255;255m.\u001b[49m \u001b[48;2;255;255;255mThe\u001b[49m \u001b[48;2;255;255;255mBroncos\u001b[49m \u001b[48;2;255;255;255mpracticed\u001b[49m \u001b[48;2;255;255;255mat\u001b[49m \u001b[48;2;152;153;0mStanford\u001b[49m \u001b[48;2;152;153;0mUniversity\u001b[49m \u001b[48;2;255;255;255mand\u001b[49m \u001b[48;2;255;255;255mstayed\u001b[49m \u001b[48;2;255;255;255mat\u001b[49m \u001b[48;2;255;255;255mthe\u001b[49m \u001b[48;2;255;255;255mSanta\u001b[49m \u001b[48;2;255;255;255mClara\u001b[49m \u001b[48;2;255;255;255mMarriott\u001b[49m \u001b[48;2;255;255;255m.\u001b[49m\n",
      "\u001b[48;2;255;255;255mWhere\u001b[49m \u001b[48;2;255;255;255mdid\u001b[49m \u001b[48;2;255;255;255mthe\u001b[49m \u001b[48;2;255;255;255mBroncos\u001b[49m \u001b[48;2;255;255;255mpractice\u001b[49m \u001b[48;2;255;255;255mfor\u001b[49m \u001b[48;2;255;255;255mthe\u001b[49m \u001b[48;2;255;255;255mSuper\u001b[49m \u001b[48;2;255;255;255mBowl\u001b[49m \u001b[48;2;255;255;255m?\u001b[49m \u001b[48;2;255;255;255mThe\u001b[49m \u001b[48;2;255;255;255mPanthers\u001b[49m \u001b[48;2;255;255;255mused\u001b[49m \u001b[48;2;255;255;255mthe\u001b[49m \u001b[48;2;255;255;255mSan\u001b[49m \u001b[48;2;255;255;255mJose\u001b[49m \u001b[48;2;152;153;0mState\u001b[49m \u001b[48;2;255;255;255mpractice\u001b[49m \u001b[48;2;255;255;255mfacility\u001b[49m \u001b[48;2;255;255;255mand\u001b[49m \u001b[48;2;255;255;255mstayed\u001b[49m \u001b[48;2;255;255;255mat\u001b[49m \u001b[48;2;255;255;255mthe\u001b[49m \u001b[48;2;255;255;255mSan\u001b[49m \u001b[48;2;255;255;255mJose\u001b[49m \u001b[48;2;255;255;255mMarriott\u001b[49m \u001b[48;2;255;255;255m.\u001b[49m \u001b[48;2;255;255;255mThe\u001b[49m \u001b[48;2;255;255;255mBroncos\u001b[49m \u001b[48;2;255;255;255mpracticed\u001b[49m \u001b[48;2;255;255;255mat\u001b[49m \u001b[48;2;152;153;0mStanford\u001b[49m \u001b[48;2;152;153;0mUniversity\u001b[49m \u001b[48;2;255;255;255mand\u001b[49m \u001b[48;2;255;255;255mstayed\u001b[49m \u001b[48;2;255;255;255mat\u001b[49m \u001b[48;2;255;255;255mthe\u001b[49m \u001b[48;2;255;255;255mSanta\u001b[49m \u001b[48;2;255;255;255mClara\u001b[49m \u001b[48;2;255;255;255mMarriott\u001b[49m \u001b[48;2;255;255;255m.\u001b[49m\n",
      "\u001b[48;2;255;255;255mWhere\u001b[49m \u001b[48;2;255;255;255mdid\u001b[49m \u001b[48;2;255;255;255mthe\u001b[49m \u001b[48;2;255;255;255mBroncos\u001b[49m \u001b[48;2;255;255;255mpractice\u001b[49m \u001b[48;2;255;255;255mfor\u001b[49m \u001b[48;2;255;255;255mthe\u001b[49m \u001b[48;2;255;255;255mSuper\u001b[49m \u001b[48;2;255;255;255mBowl\u001b[49m \u001b[48;2;255;255;255m?\u001b[49m \u001b[48;2;255;255;255mThe\u001b[49m \u001b[48;2;255;255;255mPanthers\u001b[49m \u001b[48;2;255;255;255mused\u001b[49m \u001b[48;2;255;255;255mthe\u001b[49m \u001b[48;2;152;153;0mSan\u001b[49m \u001b[48;2;255;255;255mJose\u001b[49m \u001b[48;2;255;255;255mState\u001b[49m \u001b[48;2;255;255;255mpractice\u001b[49m \u001b[48;2;255;255;255mfacility\u001b[49m \u001b[48;2;255;255;255mand\u001b[49m \u001b[48;2;255;255;255mstayed\u001b[49m \u001b[48;2;255;255;255mat\u001b[49m \u001b[48;2;255;255;255mthe\u001b[49m \u001b[48;2;255;255;255mSan\u001b[49m \u001b[48;2;255;255;255mJose\u001b[49m \u001b[48;2;255;255;255mMarriott\u001b[49m \u001b[48;2;255;255;255m.\u001b[49m \u001b[48;2;255;255;255mThe\u001b[49m \u001b[48;2;255;255;255mBroncos\u001b[49m \u001b[48;2;255;255;255mpracticed\u001b[49m \u001b[48;2;255;255;255mat\u001b[49m \u001b[48;2;152;153;0mStanford\u001b[49m \u001b[48;2;152;153;0mUniversity\u001b[49m \u001b[48;2;255;255;255mand\u001b[49m \u001b[48;2;255;255;255mstayed\u001b[49m \u001b[48;2;255;255;255mat\u001b[49m \u001b[48;2;255;255;255mthe\u001b[49m \u001b[48;2;255;255;255mSanta\u001b[49m \u001b[48;2;255;255;255mClara\u001b[49m \u001b[48;2;255;255;255mMarriott\u001b[49m \u001b[48;2;255;255;255m.\u001b[49m\n",
      "\u001b[48;2;255;255;255mWhere\u001b[49m \u001b[48;2;255;255;255mdid\u001b[49m \u001b[48;2;255;255;255mthe\u001b[49m \u001b[48;2;255;255;255mBroncos\u001b[49m \u001b[48;2;255;255;255mpractice\u001b[49m \u001b[48;2;255;255;255mfor\u001b[49m \u001b[48;2;255;255;255mthe\u001b[49m \u001b[48;2;255;255;255mSuper\u001b[49m \u001b[48;2;255;255;255mBowl\u001b[49m \u001b[48;2;255;255;255m?\u001b[49m \u001b[48;2;255;255;255mThe\u001b[49m \u001b[48;2;255;255;255mPanthers\u001b[49m \u001b[48;2;255;255;255mused\u001b[49m \u001b[48;2;152;153;0mthe\u001b[49m \u001b[48;2;255;255;255mSan\u001b[49m \u001b[48;2;255;255;255mJose\u001b[49m \u001b[48;2;255;255;255mState\u001b[49m \u001b[48;2;255;255;255mpractice\u001b[49m \u001b[48;2;255;255;255mfacility\u001b[49m \u001b[48;2;255;255;255mand\u001b[49m \u001b[48;2;255;255;255mstayed\u001b[49m \u001b[48;2;255;255;255mat\u001b[49m \u001b[48;2;255;255;255mthe\u001b[49m \u001b[48;2;255;255;255mSan\u001b[49m \u001b[48;2;255;255;255mJose\u001b[49m \u001b[48;2;255;255;255mMarriott\u001b[49m \u001b[48;2;255;255;255m.\u001b[49m \u001b[48;2;255;255;255mThe\u001b[49m \u001b[48;2;255;255;255mBroncos\u001b[49m \u001b[48;2;255;255;255mpracticed\u001b[49m \u001b[48;2;255;255;255mat\u001b[49m \u001b[48;2;152;153;0mStanford\u001b[49m \u001b[48;2;152;153;0mUniversity\u001b[49m \u001b[48;2;255;255;255mand\u001b[49m \u001b[48;2;255;255;255mstayed\u001b[49m \u001b[48;2;255;255;255mat\u001b[49m \u001b[48;2;255;255;255mthe\u001b[49m \u001b[48;2;255;255;255mSanta\u001b[49m \u001b[48;2;255;255;255mClara\u001b[49m \u001b[48;2;255;255;255mMarriott\u001b[49m \u001b[48;2;255;255;255m.\u001b[49m\n",
      "\u001b[48;2;255;255;255mWhere\u001b[49m \u001b[48;2;255;255;255mdid\u001b[49m \u001b[48;2;255;255;255mthe\u001b[49m \u001b[48;2;255;255;255mBroncos\u001b[49m \u001b[48;2;255;255;255mpractice\u001b[49m \u001b[48;2;255;255;255mfor\u001b[49m \u001b[48;2;255;255;255mthe\u001b[49m \u001b[48;2;255;255;255mSuper\u001b[49m \u001b[48;2;255;255;255mBowl\u001b[49m \u001b[48;2;255;255;255m?\u001b[49m \u001b[48;2;255;255;255mThe\u001b[49m \u001b[48;2;255;255;255mPanthers\u001b[49m \u001b[48;2;152;153;0mused\u001b[49m \u001b[48;2;255;255;255mthe\u001b[49m \u001b[48;2;255;255;255mSan\u001b[49m \u001b[48;2;255;255;255mJose\u001b[49m \u001b[48;2;255;255;255mState\u001b[49m \u001b[48;2;255;255;255mpractice\u001b[49m \u001b[48;2;255;255;255mfacility\u001b[49m \u001b[48;2;255;255;255mand\u001b[49m \u001b[48;2;255;255;255mstayed\u001b[49m \u001b[48;2;255;255;255mat\u001b[49m \u001b[48;2;255;255;255mthe\u001b[49m \u001b[48;2;255;255;255mSan\u001b[49m \u001b[48;2;255;255;255mJose\u001b[49m \u001b[48;2;255;255;255mMarriott\u001b[49m \u001b[48;2;255;255;255m.\u001b[49m \u001b[48;2;255;255;255mThe\u001b[49m \u001b[48;2;255;255;255mBroncos\u001b[49m \u001b[48;2;255;255;255mpracticed\u001b[49m \u001b[48;2;255;255;255mat\u001b[49m \u001b[48;2;152;153;0mStanford\u001b[49m \u001b[48;2;152;153;0mUniversity\u001b[49m \u001b[48;2;255;255;255mand\u001b[49m \u001b[48;2;255;255;255mstayed\u001b[49m \u001b[48;2;255;255;255mat\u001b[49m \u001b[48;2;255;255;255mthe\u001b[49m \u001b[48;2;255;255;255mSanta\u001b[49m \u001b[48;2;255;255;255mClara\u001b[49m \u001b[48;2;255;255;255mMarriott\u001b[49m \u001b[48;2;255;255;255m.\u001b[49m\n",
      "\u001b[48;2;255;255;255mWhere\u001b[49m \u001b[48;2;255;255;255mdid\u001b[49m \u001b[48;2;255;255;255mthe\u001b[49m \u001b[48;2;255;255;255mBroncos\u001b[49m \u001b[48;2;255;255;255mpractice\u001b[49m \u001b[48;2;255;255;255mfor\u001b[49m \u001b[48;2;255;255;255mthe\u001b[49m \u001b[48;2;255;255;255mSuper\u001b[49m \u001b[48;2;255;255;255mBowl\u001b[49m \u001b[48;2;255;255;255m?\u001b[49m \u001b[48;2;152;153;0mThe\u001b[49m \u001b[48;2;255;255;255mPanthers\u001b[49m \u001b[48;2;255;255;255mused\u001b[49m \u001b[48;2;255;255;255mthe\u001b[49m \u001b[48;2;255;255;255mSan\u001b[49m \u001b[48;2;255;255;255mJose\u001b[49m \u001b[48;2;255;255;255mState\u001b[49m \u001b[48;2;255;255;255mpractice\u001b[49m \u001b[48;2;255;255;255mfacility\u001b[49m \u001b[48;2;255;255;255mand\u001b[49m \u001b[48;2;255;255;255mstayed\u001b[49m \u001b[48;2;255;255;255mat\u001b[49m \u001b[48;2;255;255;255mthe\u001b[49m \u001b[48;2;255;255;255mSan\u001b[49m \u001b[48;2;255;255;255mJose\u001b[49m \u001b[48;2;255;255;255mMarriott\u001b[49m \u001b[48;2;255;255;255m.\u001b[49m \u001b[48;2;255;255;255mThe\u001b[49m \u001b[48;2;255;255;255mBroncos\u001b[49m \u001b[48;2;255;255;255mpracticed\u001b[49m \u001b[48;2;255;255;255mat\u001b[49m \u001b[48;2;152;153;0mStanford\u001b[49m \u001b[48;2;152;153;0mUniversity\u001b[49m \u001b[48;2;255;255;255mand\u001b[49m \u001b[48;2;255;255;255mstayed\u001b[49m \u001b[48;2;255;255;255mat\u001b[49m \u001b[48;2;255;255;255mthe\u001b[49m \u001b[48;2;255;255;255mSanta\u001b[49m \u001b[48;2;255;255;255mClara\u001b[49m \u001b[48;2;255;255;255mMarriott\u001b[49m \u001b[48;2;255;255;255m.\u001b[49m\n",
      "\u001b[48;2;255;255;255mWhere\u001b[49m \u001b[48;2;255;255;255mdid\u001b[49m \u001b[48;2;255;255;255mthe\u001b[49m \u001b[48;2;255;255;255mBroncos\u001b[49m \u001b[48;2;255;255;255mpractice\u001b[49m \u001b[48;2;255;255;255mfor\u001b[49m \u001b[48;2;255;255;255mthe\u001b[49m \u001b[48;2;152;153;0mSuper\u001b[49m \u001b[48;2;255;255;255mBowl\u001b[49m \u001b[48;2;255;255;255m?\u001b[49m \u001b[48;2;255;255;255mThe\u001b[49m \u001b[48;2;255;255;255mPanthers\u001b[49m \u001b[48;2;255;255;255mused\u001b[49m \u001b[48;2;255;255;255mthe\u001b[49m \u001b[48;2;255;255;255mSan\u001b[49m \u001b[48;2;255;255;255mJose\u001b[49m \u001b[48;2;255;255;255mState\u001b[49m \u001b[48;2;255;255;255mpractice\u001b[49m \u001b[48;2;255;255;255mfacility\u001b[49m \u001b[48;2;255;255;255mand\u001b[49m \u001b[48;2;255;255;255mstayed\u001b[49m \u001b[48;2;255;255;255mat\u001b[49m \u001b[48;2;255;255;255mthe\u001b[49m \u001b[48;2;255;255;255mSan\u001b[49m \u001b[48;2;255;255;255mJose\u001b[49m \u001b[48;2;255;255;255mMarriott\u001b[49m \u001b[48;2;255;255;255m.\u001b[49m \u001b[48;2;255;255;255mThe\u001b[49m \u001b[48;2;255;255;255mBroncos\u001b[49m \u001b[48;2;255;255;255mpracticed\u001b[49m \u001b[48;2;255;255;255mat\u001b[49m \u001b[48;2;152;153;0mStanford\u001b[49m \u001b[48;2;152;153;0mUniversity\u001b[49m \u001b[48;2;255;255;255mand\u001b[49m \u001b[48;2;255;255;255mstayed\u001b[49m \u001b[48;2;255;255;255mat\u001b[49m \u001b[48;2;255;255;255mthe\u001b[49m \u001b[48;2;255;255;255mSanta\u001b[49m \u001b[48;2;255;255;255mClara\u001b[49m \u001b[48;2;255;255;255mMarriott\u001b[49m \u001b[48;2;255;255;255m.\u001b[49m\n",
      "\u001b[48;2;255;255;255mWhere\u001b[49m \u001b[48;2;255;255;255mdid\u001b[49m \u001b[48;2;255;255;255mthe\u001b[49m \u001b[48;2;255;255;255mBroncos\u001b[49m \u001b[48;2;255;255;255mpractice\u001b[49m \u001b[48;2;255;255;255mfor\u001b[49m \u001b[48;2;152;153;0mthe\u001b[49m \u001b[48;2;255;255;255mSuper\u001b[49m \u001b[48;2;255;255;255mBowl\u001b[49m \u001b[48;2;255;255;255m?\u001b[49m \u001b[48;2;255;255;255mThe\u001b[49m \u001b[48;2;255;255;255mPanthers\u001b[49m \u001b[48;2;255;255;255mused\u001b[49m \u001b[48;2;255;255;255mthe\u001b[49m \u001b[48;2;255;255;255mSan\u001b[49m \u001b[48;2;255;255;255mJose\u001b[49m \u001b[48;2;255;255;255mState\u001b[49m \u001b[48;2;255;255;255mpractice\u001b[49m \u001b[48;2;255;255;255mfacility\u001b[49m \u001b[48;2;255;255;255mand\u001b[49m \u001b[48;2;255;255;255mstayed\u001b[49m \u001b[48;2;255;255;255mat\u001b[49m \u001b[48;2;255;255;255mthe\u001b[49m \u001b[48;2;255;255;255mSan\u001b[49m \u001b[48;2;255;255;255mJose\u001b[49m \u001b[48;2;255;255;255mMarriott\u001b[49m \u001b[48;2;255;255;255m.\u001b[49m \u001b[48;2;255;255;255mThe\u001b[49m \u001b[48;2;255;255;255mBroncos\u001b[49m \u001b[48;2;255;255;255mpracticed\u001b[49m \u001b[48;2;255;255;255mat\u001b[49m \u001b[48;2;152;153;0mStanford\u001b[49m \u001b[48;2;152;153;0mUniversity\u001b[49m \u001b[48;2;255;255;255mand\u001b[49m \u001b[48;2;255;255;255mstayed\u001b[49m \u001b[48;2;255;255;255mat\u001b[49m \u001b[48;2;255;255;255mthe\u001b[49m \u001b[48;2;255;255;255mSanta\u001b[49m \u001b[48;2;255;255;255mClara\u001b[49m \u001b[48;2;255;255;255mMarriott\u001b[49m \u001b[48;2;255;255;255m.\u001b[49m\n",
      "\u001b[48;2;255;255;255mWhere\u001b[49m \u001b[48;2;255;255;255mdid\u001b[49m \u001b[48;2;255;255;255mthe\u001b[49m \u001b[48;2;255;255;255mBroncos\u001b[49m \u001b[48;2;255;255;255mpractice\u001b[49m \u001b[48;2;152;153;0mfor\u001b[49m \u001b[48;2;255;255;255mthe\u001b[49m \u001b[48;2;255;255;255mSuper\u001b[49m \u001b[48;2;255;255;255mBowl\u001b[49m \u001b[48;2;255;255;255m?\u001b[49m \u001b[48;2;255;255;255mThe\u001b[49m \u001b[48;2;255;255;255mPanthers\u001b[49m \u001b[48;2;255;255;255mused\u001b[49m \u001b[48;2;255;255;255mthe\u001b[49m \u001b[48;2;255;255;255mSan\u001b[49m \u001b[48;2;255;255;255mJose\u001b[49m \u001b[48;2;255;255;255mState\u001b[49m \u001b[48;2;255;255;255mpractice\u001b[49m \u001b[48;2;255;255;255mfacility\u001b[49m \u001b[48;2;255;255;255mand\u001b[49m \u001b[48;2;255;255;255mstayed\u001b[49m \u001b[48;2;255;255;255mat\u001b[49m \u001b[48;2;255;255;255mthe\u001b[49m \u001b[48;2;255;255;255mSan\u001b[49m \u001b[48;2;255;255;255mJose\u001b[49m \u001b[48;2;255;255;255mMarriott\u001b[49m \u001b[48;2;255;255;255m.\u001b[49m \u001b[48;2;255;255;255mThe\u001b[49m \u001b[48;2;255;255;255mBroncos\u001b[49m \u001b[48;2;255;255;255mpracticed\u001b[49m \u001b[48;2;255;255;255mat\u001b[49m \u001b[48;2;152;153;0mStanford\u001b[49m \u001b[48;2;152;153;0mUniversity\u001b[49m \u001b[48;2;255;255;255mand\u001b[49m \u001b[48;2;255;255;255mstayed\u001b[49m \u001b[48;2;255;255;255mat\u001b[49m \u001b[48;2;255;255;255mthe\u001b[49m \u001b[48;2;255;255;255mSanta\u001b[49m \u001b[48;2;255;255;255mClara\u001b[49m \u001b[48;2;255;255;255mMarriott\u001b[49m \u001b[48;2;255;255;255m.\u001b[49m\n",
      "\u001b[48;2;255;255;255mWhere\u001b[49m \u001b[48;2;255;255;255mdid\u001b[49m \u001b[48;2;255;255;255mthe\u001b[49m \u001b[48;2;255;255;255mBroncos\u001b[49m \u001b[48;2;152;153;0mpractice\u001b[49m \u001b[48;2;255;255;255mfor\u001b[49m \u001b[48;2;255;255;255mthe\u001b[49m \u001b[48;2;255;255;255mSuper\u001b[49m \u001b[48;2;255;255;255mBowl\u001b[49m \u001b[48;2;255;255;255m?\u001b[49m \u001b[48;2;255;255;255mThe\u001b[49m \u001b[48;2;255;255;255mPanthers\u001b[49m \u001b[48;2;255;255;255mused\u001b[49m \u001b[48;2;255;255;255mthe\u001b[49m \u001b[48;2;255;255;255mSan\u001b[49m \u001b[48;2;255;255;255mJose\u001b[49m \u001b[48;2;255;255;255mState\u001b[49m \u001b[48;2;255;255;255mpractice\u001b[49m \u001b[48;2;255;255;255mfacility\u001b[49m \u001b[48;2;255;255;255mand\u001b[49m \u001b[48;2;255;255;255mstayed\u001b[49m \u001b[48;2;255;255;255mat\u001b[49m \u001b[48;2;255;255;255mthe\u001b[49m \u001b[48;2;255;255;255mSan\u001b[49m \u001b[48;2;255;255;255mJose\u001b[49m \u001b[48;2;255;255;255mMarriott\u001b[49m \u001b[48;2;255;255;255m.\u001b[49m \u001b[48;2;255;255;255mThe\u001b[49m \u001b[48;2;255;255;255mBroncos\u001b[49m \u001b[48;2;255;255;255mpracticed\u001b[49m \u001b[48;2;255;255;255mat\u001b[49m \u001b[48;2;152;153;0mStanford\u001b[49m \u001b[48;2;152;153;0mUniversity\u001b[49m \u001b[48;2;255;255;255mand\u001b[49m \u001b[48;2;255;255;255mstayed\u001b[49m \u001b[48;2;255;255;255mat\u001b[49m \u001b[48;2;255;255;255mthe\u001b[49m \u001b[48;2;255;255;255mSanta\u001b[49m \u001b[48;2;255;255;255mClara\u001b[49m \u001b[48;2;255;255;255mMarriott\u001b[49m \u001b[48;2;255;255;255m.\u001b[49m\n",
      "\u001b[48;2;255;255;255mWhere\u001b[49m \u001b[48;2;255;255;255mdid\u001b[49m \u001b[48;2;255;255;255mthe\u001b[49m \u001b[48;2;255;255;255mBroncos\u001b[49m \u001b[48;2;152;153;0mpractice\u001b[49m \u001b[48;2;255;255;255mfor\u001b[49m \u001b[48;2;255;255;255mthe\u001b[49m \u001b[48;2;255;255;255mSuper\u001b[49m \u001b[48;2;255;255;255mBowl\u001b[49m \u001b[48;2;152;153;0m?\u001b[49m \u001b[48;2;255;255;255mThe\u001b[49m \u001b[48;2;255;255;255mPanthers\u001b[49m \u001b[48;2;255;255;255mused\u001b[49m \u001b[48;2;255;255;255mthe\u001b[49m \u001b[48;2;255;255;255mSan\u001b[49m \u001b[48;2;255;255;255mJose\u001b[49m \u001b[48;2;255;255;255mState\u001b[49m \u001b[48;2;255;255;255mpractice\u001b[49m \u001b[48;2;255;255;255mfacility\u001b[49m \u001b[48;2;255;255;255mand\u001b[49m \u001b[48;2;255;255;255mstayed\u001b[49m \u001b[48;2;255;255;255mat\u001b[49m \u001b[48;2;255;255;255mthe\u001b[49m \u001b[48;2;255;255;255mSan\u001b[49m \u001b[48;2;255;255;255mJose\u001b[49m \u001b[48;2;255;255;255mMarriott\u001b[49m \u001b[48;2;255;255;255m.\u001b[49m \u001b[48;2;255;255;255mThe\u001b[49m \u001b[48;2;255;255;255mBroncos\u001b[49m \u001b[48;2;255;255;255mpracticed\u001b[49m \u001b[48;2;255;255;255mat\u001b[49m \u001b[48;2;152;153;0mStanford\u001b[49m \u001b[48;2;152;153;0mUniversity\u001b[49m \u001b[48;2;255;255;255mand\u001b[49m \u001b[48;2;255;255;255mstayed\u001b[49m \u001b[48;2;255;255;255mat\u001b[49m \u001b[48;2;255;255;255mthe\u001b[49m \u001b[48;2;255;255;255mSanta\u001b[49m \u001b[48;2;255;255;255mClara\u001b[49m \u001b[48;2;255;255;255mMarriott\u001b[49m \u001b[48;2;255;255;255m.\u001b[49m\n",
      "\u001b[48;2;255;255;255mWhere\u001b[49m \u001b[48;2;255;255;255mdid\u001b[49m \u001b[48;2;255;255;255mthe\u001b[49m \u001b[48;2;152;153;0mBroncos\u001b[49m \u001b[48;2;255;255;255mpractice\u001b[49m \u001b[48;2;255;255;255mfor\u001b[49m \u001b[48;2;255;255;255mthe\u001b[49m \u001b[48;2;255;255;255mSuper\u001b[49m \u001b[48;2;255;255;255mBowl\u001b[49m \u001b[48;2;255;255;255m?\u001b[49m \u001b[48;2;255;255;255mThe\u001b[49m \u001b[48;2;255;255;255mPanthers\u001b[49m \u001b[48;2;255;255;255mused\u001b[49m \u001b[48;2;255;255;255mthe\u001b[49m \u001b[48;2;255;255;255mSan\u001b[49m \u001b[48;2;255;255;255mJose\u001b[49m \u001b[48;2;255;255;255mState\u001b[49m \u001b[48;2;255;255;255mpractice\u001b[49m \u001b[48;2;255;255;255mfacility\u001b[49m \u001b[48;2;255;255;255mand\u001b[49m \u001b[48;2;255;255;255mstayed\u001b[49m \u001b[48;2;255;255;255mat\u001b[49m \u001b[48;2;255;255;255mthe\u001b[49m \u001b[48;2;255;255;255mSan\u001b[49m \u001b[48;2;255;255;255mJose\u001b[49m \u001b[48;2;255;255;255mMarriott\u001b[49m \u001b[48;2;255;255;255m.\u001b[49m \u001b[48;2;255;255;255mThe\u001b[49m \u001b[48;2;152;153;0mBroncos\u001b[49m \u001b[48;2;255;255;255mpracticed\u001b[49m \u001b[48;2;255;255;255mat\u001b[49m \u001b[48;2;152;153;0mStanford\u001b[49m \u001b[48;2;152;153;0mUniversity\u001b[49m \u001b[48;2;255;255;255mand\u001b[49m \u001b[48;2;255;255;255mstayed\u001b[49m \u001b[48;2;255;255;255mat\u001b[49m \u001b[48;2;255;255;255mthe\u001b[49m \u001b[48;2;255;255;255mSanta\u001b[49m \u001b[48;2;255;255;255mClara\u001b[49m \u001b[48;2;255;255;255mMarriott\u001b[49m \u001b[48;2;255;255;255m.\u001b[49m\n",
      "\u001b[48;2;255;255;255mWhere\u001b[49m \u001b[48;2;255;255;255mdid\u001b[49m \u001b[48;2;152;153;0mthe\u001b[49m \u001b[48;2;255;255;255mBroncos\u001b[49m \u001b[48;2;255;255;255mpractice\u001b[49m \u001b[48;2;255;255;255mfor\u001b[49m \u001b[48;2;255;255;255mthe\u001b[49m \u001b[48;2;255;255;255mSuper\u001b[49m \u001b[48;2;255;255;255mBowl\u001b[49m \u001b[48;2;255;255;255m?\u001b[49m \u001b[48;2;255;255;255mThe\u001b[49m \u001b[48;2;255;255;255mPanthers\u001b[49m \u001b[48;2;255;255;255mused\u001b[49m \u001b[48;2;255;255;255mthe\u001b[49m \u001b[48;2;255;255;255mSan\u001b[49m \u001b[48;2;255;255;255mJose\u001b[49m \u001b[48;2;255;255;255mState\u001b[49m \u001b[48;2;255;255;255mpractice\u001b[49m \u001b[48;2;255;255;255mfacility\u001b[49m \u001b[48;2;255;255;255mand\u001b[49m \u001b[48;2;255;255;255mstayed\u001b[49m \u001b[48;2;255;255;255mat\u001b[49m \u001b[48;2;255;255;255mthe\u001b[49m \u001b[48;2;255;255;255mSan\u001b[49m \u001b[48;2;255;255;255mJose\u001b[49m \u001b[48;2;255;255;255mMarriott\u001b[49m \u001b[48;2;255;255;255m.\u001b[49m \u001b[48;2;255;255;255mThe\u001b[49m \u001b[48;2;255;255;255mBroncos\u001b[49m \u001b[48;2;255;255;255mpracticed\u001b[49m \u001b[48;2;255;255;255mat\u001b[49m \u001b[48;2;152;153;0mStanford\u001b[49m \u001b[48;2;152;153;0mUniversity\u001b[49m \u001b[48;2;255;255;255mand\u001b[49m \u001b[48;2;255;255;255mstayed\u001b[49m \u001b[48;2;255;255;255mat\u001b[49m \u001b[48;2;255;255;255mthe\u001b[49m \u001b[48;2;255;255;255mSanta\u001b[49m \u001b[48;2;255;255;255mClara\u001b[49m \u001b[48;2;255;255;255mMarriott\u001b[49m \u001b[48;2;255;255;255m.\u001b[49m\n",
      "\u001b[48;2;255;255;255mWhere\u001b[49m \u001b[48;2;152;153;0mdid\u001b[49m \u001b[48;2;255;255;255mthe\u001b[49m \u001b[48;2;255;255;255mBroncos\u001b[49m \u001b[48;2;255;255;255mpractice\u001b[49m \u001b[48;2;255;255;255mfor\u001b[49m \u001b[48;2;255;255;255mthe\u001b[49m \u001b[48;2;255;255;255mSuper\u001b[49m \u001b[48;2;255;255;255mBowl\u001b[49m \u001b[48;2;255;255;255m?\u001b[49m \u001b[48;2;255;255;255mThe\u001b[49m \u001b[48;2;255;255;255mPanthers\u001b[49m \u001b[48;2;255;255;255mused\u001b[49m \u001b[48;2;255;255;255mthe\u001b[49m \u001b[48;2;255;255;255mSan\u001b[49m \u001b[48;2;255;255;255mJose\u001b[49m \u001b[48;2;255;255;255mState\u001b[49m \u001b[48;2;255;255;255mpractice\u001b[49m \u001b[48;2;255;255;255mfacility\u001b[49m \u001b[48;2;255;255;255mand\u001b[49m \u001b[48;2;255;255;255mstayed\u001b[49m \u001b[48;2;255;255;255mat\u001b[49m \u001b[48;2;255;255;255mthe\u001b[49m \u001b[48;2;255;255;255mSan\u001b[49m \u001b[48;2;255;255;255mJose\u001b[49m \u001b[48;2;255;255;255mMarriott\u001b[49m \u001b[48;2;255;255;255m.\u001b[49m \u001b[48;2;255;255;255mThe\u001b[49m \u001b[48;2;255;255;255mBroncos\u001b[49m \u001b[48;2;255;255;255mpracticed\u001b[49m \u001b[48;2;255;255;255mat\u001b[49m \u001b[48;2;152;153;0mStanford\u001b[49m \u001b[48;2;152;153;0mUniversity\u001b[49m \u001b[48;2;255;255;255mand\u001b[49m \u001b[48;2;255;255;255mstayed\u001b[49m \u001b[48;2;255;255;255mat\u001b[49m \u001b[48;2;255;255;255mthe\u001b[49m \u001b[48;2;255;255;255mSanta\u001b[49m \u001b[48;2;255;255;255mClara\u001b[49m \u001b[48;2;255;255;255mMarriott\u001b[49m \u001b[48;2;255;255;255m.\u001b[49m\n",
      "\u001b[48;2;255;255;255mWhere\u001b[49m \u001b[48;2;152;153;0mdid\u001b[49m \u001b[48;2;255;255;255mthe\u001b[49m \u001b[48;2;255;255;255mBroncos\u001b[49m \u001b[48;2;255;255;255mpractice\u001b[49m \u001b[48;2;255;255;255mfor\u001b[49m \u001b[48;2;255;255;255mthe\u001b[49m \u001b[48;2;255;255;255mSuper\u001b[49m \u001b[48;2;255;255;255mBowl\u001b[49m \u001b[48;2;255;255;255m?\u001b[49m \u001b[48;2;255;255;255mThe\u001b[49m \u001b[48;2;255;255;255mPanthers\u001b[49m \u001b[48;2;255;255;255mused\u001b[49m \u001b[48;2;255;255;255mthe\u001b[49m \u001b[48;2;255;255;255mSan\u001b[49m \u001b[48;2;255;255;255mJose\u001b[49m \u001b[48;2;255;255;255mState\u001b[49m \u001b[48;2;255;255;255mpractice\u001b[49m \u001b[48;2;255;255;255mfacility\u001b[49m \u001b[48;2;255;255;255mand\u001b[49m \u001b[48;2;255;255;255mstayed\u001b[49m \u001b[48;2;255;255;255mat\u001b[49m \u001b[48;2;255;255;255mthe\u001b[49m \u001b[48;2;255;255;255mSan\u001b[49m \u001b[48;2;255;255;255mJose\u001b[49m \u001b[48;2;255;255;255mMarriott\u001b[49m \u001b[48;2;255;255;255m.\u001b[49m \u001b[48;2;255;255;255mThe\u001b[49m \u001b[48;2;255;255;255mBroncos\u001b[49m \u001b[48;2;255;255;255mpracticed\u001b[49m \u001b[48;2;255;255;255mat\u001b[49m \u001b[48;2;152;153;0mStanford\u001b[49m \u001b[48;2;152;153;0mUniversity\u001b[49m \u001b[48;2;255;255;255mand\u001b[49m \u001b[48;2;255;255;255mstayed\u001b[49m \u001b[48;2;255;255;255mat\u001b[49m \u001b[48;2;255;255;255mthe\u001b[49m \u001b[48;2;255;255;255mSanta\u001b[49m \u001b[48;2;255;255;255mClara\u001b[49m \u001b[48;2;255;255;255mMarriott\u001b[49m \u001b[48;2;255;255;255m.\u001b[49m\n",
      "\u001b[48;2;152;153;0mWhere\u001b[49m \u001b[48;2;255;255;255mdid\u001b[49m \u001b[48;2;255;255;255mthe\u001b[49m \u001b[48;2;255;255;255mBroncos\u001b[49m \u001b[48;2;255;255;255mpractice\u001b[49m \u001b[48;2;255;255;255mfor\u001b[49m \u001b[48;2;255;255;255mthe\u001b[49m \u001b[48;2;255;255;255mSuper\u001b[49m \u001b[48;2;255;255;255mBowl\u001b[49m \u001b[48;2;255;255;255m?\u001b[49m \u001b[48;2;255;255;255mThe\u001b[49m \u001b[48;2;255;255;255mPanthers\u001b[49m \u001b[48;2;255;255;255mused\u001b[49m \u001b[48;2;255;255;255mthe\u001b[49m \u001b[48;2;255;255;255mSan\u001b[49m \u001b[48;2;255;255;255mJose\u001b[49m \u001b[48;2;255;255;255mState\u001b[49m \u001b[48;2;255;255;255mpractice\u001b[49m \u001b[48;2;255;255;255mfacility\u001b[49m \u001b[48;2;255;255;255mand\u001b[49m \u001b[48;2;255;255;255mstayed\u001b[49m \u001b[48;2;255;255;255mat\u001b[49m \u001b[48;2;255;255;255mthe\u001b[49m \u001b[48;2;255;255;255mSan\u001b[49m \u001b[48;2;255;255;255mJose\u001b[49m \u001b[48;2;255;255;255mMarriott\u001b[49m \u001b[48;2;255;255;255m.\u001b[49m \u001b[48;2;255;255;255mThe\u001b[49m \u001b[48;2;255;255;255mBroncos\u001b[49m \u001b[48;2;255;255;255mpracticed\u001b[49m \u001b[48;2;255;255;255mat\u001b[49m \u001b[48;2;152;153;0mStanford\u001b[49m \u001b[48;2;152;153;0mUniversity\u001b[49m \u001b[48;2;255;255;255mand\u001b[49m \u001b[48;2;255;255;255mstayed\u001b[49m \u001b[48;2;255;255;255mat\u001b[49m \u001b[48;2;255;255;255mthe\u001b[49m \u001b[48;2;255;255;255mSanta\u001b[49m \u001b[48;2;255;255;255mClara\u001b[49m \u001b[48;2;255;255;255mMarriott\u001b[49m \u001b[48;2;255;255;255m.\u001b[49m\n",
      "\u001b[48;2;152;153;0mWhere\u001b[49m \u001b[48;2;255;255;255mdid\u001b[49m \u001b[48;2;255;255;255mthe\u001b[49m \u001b[48;2;255;255;255mBroncos\u001b[49m \u001b[48;2;255;255;255mpractice\u001b[49m \u001b[48;2;255;255;255mfor\u001b[49m \u001b[48;2;255;255;255mthe\u001b[49m \u001b[48;2;255;255;255mSuper\u001b[49m \u001b[48;2;255;255;255mBowl\u001b[49m \u001b[48;2;255;255;255m?\u001b[49m \u001b[48;2;255;255;255mThe\u001b[49m \u001b[48;2;255;255;255mPanthers\u001b[49m \u001b[48;2;255;255;255mused\u001b[49m \u001b[48;2;255;255;255mthe\u001b[49m \u001b[48;2;255;255;255mSan\u001b[49m \u001b[48;2;255;255;255mJose\u001b[49m \u001b[48;2;255;255;255mState\u001b[49m \u001b[48;2;255;255;255mpractice\u001b[49m \u001b[48;2;255;255;255mfacility\u001b[49m \u001b[48;2;255;255;255mand\u001b[49m \u001b[48;2;255;255;255mstayed\u001b[49m \u001b[48;2;255;255;255mat\u001b[49m \u001b[48;2;255;255;255mthe\u001b[49m \u001b[48;2;255;255;255mSan\u001b[49m \u001b[48;2;255;255;255mJose\u001b[49m \u001b[48;2;255;255;255mMarriott\u001b[49m \u001b[48;2;255;255;255m.\u001b[49m \u001b[48;2;255;255;255mThe\u001b[49m \u001b[48;2;255;255;255mBroncos\u001b[49m \u001b[48;2;255;255;255mpracticed\u001b[49m \u001b[48;2;255;255;255mat\u001b[49m \u001b[48;2;152;153;0mStanford\u001b[49m \u001b[48;2;152;153;0mUniversity\u001b[49m \u001b[48;2;255;255;255mand\u001b[49m \u001b[48;2;255;255;255mstayed\u001b[49m \u001b[48;2;152;153;0mat\u001b[49m \u001b[48;2;255;255;255mthe\u001b[49m \u001b[48;2;255;255;255mSanta\u001b[49m \u001b[48;2;255;255;255mClara\u001b[49m \u001b[48;2;255;255;255mMarriott\u001b[49m \u001b[48;2;255;255;255m.\u001b[49m\n",
      "\u001b[48;2;152;153;0mWhere\u001b[49m \u001b[48;2;255;255;255mdid\u001b[49m \u001b[48;2;255;255;255mthe\u001b[49m \u001b[48;2;255;255;255mBroncos\u001b[49m \u001b[48;2;255;255;255mpractice\u001b[49m \u001b[48;2;255;255;255mfor\u001b[49m \u001b[48;2;255;255;255mthe\u001b[49m \u001b[48;2;255;255;255mSuper\u001b[49m \u001b[48;2;255;255;255mBowl\u001b[49m \u001b[48;2;255;255;255m?\u001b[49m \u001b[48;2;255;255;255mThe\u001b[49m \u001b[48;2;255;255;255mPanthers\u001b[49m \u001b[48;2;255;255;255mused\u001b[49m \u001b[48;2;255;255;255mthe\u001b[49m \u001b[48;2;255;255;255mSan\u001b[49m \u001b[48;2;255;255;255mJose\u001b[49m \u001b[48;2;255;255;255mState\u001b[49m \u001b[48;2;255;255;255mpractice\u001b[49m \u001b[48;2;255;255;255mfacility\u001b[49m \u001b[48;2;255;255;255mand\u001b[49m \u001b[48;2;255;255;255mstayed\u001b[49m \u001b[48;2;255;255;255mat\u001b[49m \u001b[48;2;255;255;255mthe\u001b[49m \u001b[48;2;255;255;255mSan\u001b[49m \u001b[48;2;255;255;255mJose\u001b[49m \u001b[48;2;255;255;255mMarriott\u001b[49m \u001b[48;2;255;255;255m.\u001b[49m \u001b[48;2;255;255;255mThe\u001b[49m \u001b[48;2;255;255;255mBroncos\u001b[49m \u001b[48;2;255;255;255mpracticed\u001b[49m \u001b[48;2;255;255;255mat\u001b[49m \u001b[48;2;152;153;0mStanford\u001b[49m \u001b[48;2;152;153;0mUniversity\u001b[49m \u001b[48;2;255;255;255mand\u001b[49m \u001b[48;2;152;153;0mstayed\u001b[49m \u001b[48;2;255;255;255mat\u001b[49m \u001b[48;2;255;255;255mthe\u001b[49m \u001b[48;2;255;255;255mSanta\u001b[49m \u001b[48;2;255;255;255mClara\u001b[49m \u001b[48;2;255;255;255mMarriott\u001b[49m \u001b[48;2;255;255;255m.\u001b[49m\n",
      "\u001b[48;2;152;153;0mWhere\u001b[49m \u001b[48;2;255;255;255mdid\u001b[49m \u001b[48;2;255;255;255mthe\u001b[49m \u001b[48;2;255;255;255mBroncos\u001b[49m \u001b[48;2;255;255;255mpractice\u001b[49m \u001b[48;2;255;255;255mfor\u001b[49m \u001b[48;2;255;255;255mthe\u001b[49m \u001b[48;2;255;255;255mSuper\u001b[49m \u001b[48;2;255;255;255mBowl\u001b[49m \u001b[48;2;255;255;255m?\u001b[49m \u001b[48;2;255;255;255mThe\u001b[49m \u001b[48;2;255;255;255mPanthers\u001b[49m \u001b[48;2;255;255;255mused\u001b[49m \u001b[48;2;255;255;255mthe\u001b[49m \u001b[48;2;255;255;255mSan\u001b[49m \u001b[48;2;255;255;255mJose\u001b[49m \u001b[48;2;255;255;255mState\u001b[49m \u001b[48;2;255;255;255mpractice\u001b[49m \u001b[48;2;255;255;255mfacility\u001b[49m \u001b[48;2;255;255;255mand\u001b[49m \u001b[48;2;255;255;255mstayed\u001b[49m \u001b[48;2;255;255;255mat\u001b[49m \u001b[48;2;255;255;255mthe\u001b[49m \u001b[48;2;255;255;255mSan\u001b[49m \u001b[48;2;255;255;255mJose\u001b[49m \u001b[48;2;255;255;255mMarriott\u001b[49m \u001b[48;2;255;255;255m.\u001b[49m \u001b[48;2;255;255;255mThe\u001b[49m \u001b[48;2;255;255;255mBroncos\u001b[49m \u001b[48;2;255;255;255mpracticed\u001b[49m \u001b[48;2;152;153;0mat\u001b[49m \u001b[48;2;152;153;0mStanford\u001b[49m \u001b[48;2;152;153;0mUniversity\u001b[49m \u001b[48;2;255;255;255mand\u001b[49m \u001b[48;2;255;255;255mstayed\u001b[49m \u001b[48;2;255;255;255mat\u001b[49m \u001b[48;2;255;255;255mthe\u001b[49m \u001b[48;2;255;255;255mSanta\u001b[49m \u001b[48;2;255;255;255mClara\u001b[49m \u001b[48;2;255;255;255mMarriott\u001b[49m \u001b[48;2;255;255;255m.\u001b[49m\n",
      "\u001b[48;2;152;153;0mWhere\u001b[49m \u001b[48;2;255;255;255mdid\u001b[49m \u001b[48;2;255;255;255mthe\u001b[49m \u001b[48;2;255;255;255mBroncos\u001b[49m \u001b[48;2;255;255;255mpractice\u001b[49m \u001b[48;2;255;255;255mfor\u001b[49m \u001b[48;2;255;255;255mthe\u001b[49m \u001b[48;2;255;255;255mSuper\u001b[49m \u001b[48;2;255;255;255mBowl\u001b[49m \u001b[48;2;255;255;255m?\u001b[49m \u001b[48;2;255;255;255mThe\u001b[49m \u001b[48;2;255;255;255mPanthers\u001b[49m \u001b[48;2;255;255;255mused\u001b[49m \u001b[48;2;255;255;255mthe\u001b[49m \u001b[48;2;255;255;255mSan\u001b[49m \u001b[48;2;255;255;255mJose\u001b[49m \u001b[48;2;255;255;255mState\u001b[49m \u001b[48;2;255;255;255mpractice\u001b[49m \u001b[48;2;255;255;255mfacility\u001b[49m \u001b[48;2;255;255;255mand\u001b[49m \u001b[48;2;255;255;255mstayed\u001b[49m \u001b[48;2;152;153;0mat\u001b[49m \u001b[48;2;255;255;255mthe\u001b[49m \u001b[48;2;255;255;255mSan\u001b[49m \u001b[48;2;255;255;255mJose\u001b[49m \u001b[48;2;255;255;255mMarriott\u001b[49m \u001b[48;2;255;255;255m.\u001b[49m \u001b[48;2;255;255;255mThe\u001b[49m \u001b[48;2;255;255;255mBroncos\u001b[49m \u001b[48;2;255;255;255mpracticed\u001b[49m \u001b[48;2;255;255;255mat\u001b[49m \u001b[48;2;152;153;0mStanford\u001b[49m \u001b[48;2;152;153;0mUniversity\u001b[49m \u001b[48;2;255;255;255mand\u001b[49m \u001b[48;2;255;255;255mstayed\u001b[49m \u001b[48;2;255;255;255mat\u001b[49m \u001b[48;2;255;255;255mthe\u001b[49m \u001b[48;2;255;255;255mSanta\u001b[49m \u001b[48;2;255;255;255mClara\u001b[49m \u001b[48;2;255;255;255mMarriott\u001b[49m \u001b[48;2;255;255;255m.\u001b[49m\n",
      "\u001b[48;2;152;153;0mWhere\u001b[49m \u001b[48;2;255;255;255mdid\u001b[49m \u001b[48;2;255;255;255mthe\u001b[49m \u001b[48;2;255;255;255mBroncos\u001b[49m \u001b[48;2;255;255;255mpractice\u001b[49m \u001b[48;2;255;255;255mfor\u001b[49m \u001b[48;2;255;255;255mthe\u001b[49m \u001b[48;2;255;255;255mSuper\u001b[49m \u001b[48;2;255;255;255mBowl\u001b[49m \u001b[48;2;255;255;255m?\u001b[49m \u001b[48;2;255;255;255mThe\u001b[49m \u001b[48;2;255;255;255mPanthers\u001b[49m \u001b[48;2;255;255;255mused\u001b[49m \u001b[48;2;255;255;255mthe\u001b[49m \u001b[48;2;255;255;255mSan\u001b[49m \u001b[48;2;255;255;255mJose\u001b[49m \u001b[48;2;255;255;255mState\u001b[49m \u001b[48;2;255;255;255mpractice\u001b[49m \u001b[48;2;255;255;255mfacility\u001b[49m \u001b[48;2;255;255;255mand\u001b[49m \u001b[48;2;152;153;0mstayed\u001b[49m \u001b[48;2;255;255;255mat\u001b[49m \u001b[48;2;255;255;255mthe\u001b[49m \u001b[48;2;255;255;255mSan\u001b[49m \u001b[48;2;255;255;255mJose\u001b[49m \u001b[48;2;255;255;255mMarriott\u001b[49m \u001b[48;2;255;255;255m.\u001b[49m \u001b[48;2;255;255;255mThe\u001b[49m \u001b[48;2;255;255;255mBroncos\u001b[49m \u001b[48;2;255;255;255mpracticed\u001b[49m \u001b[48;2;255;255;255mat\u001b[49m \u001b[48;2;152;153;0mStanford\u001b[49m \u001b[48;2;152;153;0mUniversity\u001b[49m \u001b[48;2;255;255;255mand\u001b[49m \u001b[48;2;255;255;255mstayed\u001b[49m \u001b[48;2;255;255;255mat\u001b[49m \u001b[48;2;255;255;255mthe\u001b[49m \u001b[48;2;255;255;255mSanta\u001b[49m \u001b[48;2;255;255;255mClara\u001b[49m \u001b[48;2;255;255;255mMarriott\u001b[49m \u001b[48;2;255;255;255m.\u001b[49m\n",
      "\u001b[48;2;152;153;0mWhere\u001b[49m \u001b[48;2;255;255;255mdid\u001b[49m \u001b[48;2;255;255;255mthe\u001b[49m \u001b[48;2;255;255;255mBroncos\u001b[49m \u001b[48;2;255;255;255mpractice\u001b[49m \u001b[48;2;255;255;255mfor\u001b[49m \u001b[48;2;255;255;255mthe\u001b[49m \u001b[48;2;255;255;255mSuper\u001b[49m \u001b[48;2;255;255;255mBowl\u001b[49m \u001b[48;2;152;153;0m?\u001b[49m \u001b[48;2;255;255;255mThe\u001b[49m \u001b[48;2;255;255;255mPanthers\u001b[49m \u001b[48;2;255;255;255mused\u001b[49m \u001b[48;2;255;255;255mthe\u001b[49m \u001b[48;2;255;255;255mSan\u001b[49m \u001b[48;2;255;255;255mJose\u001b[49m \u001b[48;2;255;255;255mState\u001b[49m \u001b[48;2;255;255;255mpractice\u001b[49m \u001b[48;2;255;255;255mfacility\u001b[49m \u001b[48;2;255;255;255mand\u001b[49m \u001b[48;2;255;255;255mstayed\u001b[49m \u001b[48;2;255;255;255mat\u001b[49m \u001b[48;2;255;255;255mthe\u001b[49m \u001b[48;2;255;255;255mSan\u001b[49m \u001b[48;2;255;255;255mJose\u001b[49m \u001b[48;2;255;255;255mMarriott\u001b[49m \u001b[48;2;255;255;255m.\u001b[49m \u001b[48;2;255;255;255mThe\u001b[49m \u001b[48;2;255;255;255mBroncos\u001b[49m \u001b[48;2;255;255;255mpracticed\u001b[49m \u001b[48;2;255;255;255mat\u001b[49m \u001b[48;2;152;153;0mStanford\u001b[49m \u001b[48;2;152;153;0mUniversity\u001b[49m \u001b[48;2;255;255;255mand\u001b[49m \u001b[48;2;255;255;255mstayed\u001b[49m \u001b[48;2;255;255;255mat\u001b[49m \u001b[48;2;255;255;255mthe\u001b[49m \u001b[48;2;255;255;255mSanta\u001b[49m \u001b[48;2;255;255;255mClara\u001b[49m \u001b[48;2;255;255;255mMarriott\u001b[49m \u001b[48;2;255;255;255m.\u001b[49m\n",
      "\u001b[48;2;255;255;255mWhere\u001b[49m \u001b[48;2;255;255;255mdid\u001b[49m \u001b[48;2;255;255;255mthe\u001b[49m \u001b[48;2;255;255;255mBroncos\u001b[49m \u001b[48;2;255;255;255mpractice\u001b[49m \u001b[48;2;255;255;255mfor\u001b[49m \u001b[48;2;255;255;255mthe\u001b[49m \u001b[48;2;255;255;255mSuper\u001b[49m \u001b[48;2;255;255;255mBowl\u001b[49m \u001b[48;2;255;255;255m?\u001b[49m \u001b[48;2;255;255;255mThe\u001b[49m \u001b[48;2;255;255;255mPanthers\u001b[49m \u001b[48;2;255;255;255mused\u001b[49m \u001b[48;2;255;255;255mthe\u001b[49m \u001b[48;2;255;255;255mSan\u001b[49m \u001b[48;2;255;255;255mJose\u001b[49m \u001b[48;2;255;255;255mState\u001b[49m \u001b[48;2;255;255;255mpractice\u001b[49m \u001b[48;2;255;255;255mfacility\u001b[49m \u001b[48;2;255;255;255mand\u001b[49m \u001b[48;2;255;255;255mstayed\u001b[49m \u001b[48;2;255;255;255mat\u001b[49m \u001b[48;2;255;255;255mthe\u001b[49m \u001b[48;2;255;255;255mSan\u001b[49m \u001b[48;2;255;255;255mJose\u001b[49m \u001b[48;2;255;255;255mMarriott\u001b[49m \u001b[48;2;255;255;255m.\u001b[49m \u001b[48;2;255;255;255mThe\u001b[49m \u001b[48;2;255;255;255mBroncos\u001b[49m \u001b[48;2;255;255;255mpracticed\u001b[49m \u001b[48;2;255;255;255mat\u001b[49m \u001b[48;2;152;153;0mStanford\u001b[49m \u001b[48;2;152;153;0mUniversity\u001b[49m \u001b[48;2;255;255;255mand\u001b[49m \u001b[48;2;255;255;255mstayed\u001b[49m \u001b[48;2;255;255;255mat\u001b[49m \u001b[48;2;255;255;255mthe\u001b[49m \u001b[48;2;255;255;255mSanta\u001b[49m \u001b[48;2;255;255;255mClara\u001b[49m \u001b[48;2;255;255;255mMarriott\u001b[49m \u001b[48;2;255;255;255m.\u001b[49m\n"
     ]
    }
   ],
   "source": [
    "for e in solutions:\n",
    "    print_attributions(tokens, e[:inputs_dict[\"mask\"].sum()].cpu(), special=False)"
   ]
  },
  {
   "cell_type": "code",
   "execution_count": null,
   "metadata": {},
   "outputs": [],
   "source": []
  }
 ],
 "metadata": {
  "kernelspec": {
   "display_name": "Python 3",
   "language": "python",
   "name": "python3"
  },
  "language_info": {
   "codemirror_mode": {
    "name": "ipython",
    "version": 3
   },
   "file_extension": ".py",
   "mimetype": "text/x-python",
   "name": "python",
   "nbconvert_exporter": "python",
   "pygments_lexer": "ipython3",
   "version": "3.6.10"
  }
 },
 "nbformat": 4,
 "nbformat_minor": 4
}
