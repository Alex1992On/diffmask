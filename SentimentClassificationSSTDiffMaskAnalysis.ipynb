{
 "cells": [
  {
   "cell_type": "code",
   "execution_count": 1,
   "metadata": {},
   "outputs": [],
   "source": [
    "%load_ext autoreload\n",
    "%autoreload 2"
   ]
  },
  {
   "cell_type": "code",
   "execution_count": 2,
   "metadata": {},
   "outputs": [],
   "source": [
    "import os\n",
    "import argparse\n",
    "import torch\n",
    "import json\n",
    "from collections import defaultdict\n",
    "\n",
    "import matplotlib.pyplot as plt\n",
    "from tqdm.notebook import tqdm, trange\n",
    "\n",
    "from diffmask.models.sentiment_classification_sst_diffmask import (\n",
    "    BertSentimentClassificationSSTDiffMask,\n",
    "    RecurrentSentimentClassificationSSTDiffMask,\n",
    "    PerSampleDiffMaskRecurrentSentimentClassificationSSTDiffMask,\n",
    "    PerSampleREINFORCERecurrentSentimentClassificationSSTDiffMask,\n",
    ")\n",
    "from diffmask.utils.plot import plot_sst_attributions"
   ]
  },
  {
   "cell_type": "code",
   "execution_count": 3,
   "metadata": {},
   "outputs": [],
   "source": [
    "if __name__ == \"__main__\":\n",
    "    parser = argparse.ArgumentParser()\n",
    "    parser.add_argument(\"--gpu\", type=str, default=\"0\")\n",
    "    parser.add_argument(\"--model\", type=str, default=\"bert-base-uncased\")\n",
    "    parser.add_argument(\"--train_filename\", type=str, default=\"./datasets/sst/train.txt\")\n",
    "    parser.add_argument(\"--val_filename\", type=str, default=\"./datasets/sst/dev.txt\")\n",
    "    parser.add_argument(\"--batch_size\", type=int, default=64)\n",
    "    parser.add_argument(\"--gate_bias\", action=\"store_true\")\n",
    "    parser.add_argument(\"--seed\", type=float, default=0)\n",
    "    parser.add_argument(\"--architecture\", type=str, default=\"bert\", choices=[\"gru\", \"bert\"])\n",
    "    parser.add_argument(\n",
    "        \"--model_path\",\n",
    "        type=str,\n",
    "        default=\"models/sst-diffmask-hidden.ckpt\",\n",
    "#         or\n",
    "#         default=\"models/sst-diffmask-input.ckpt\",\n",
    "    )\n",
    "    \n",
    "    hparams, _ = parser.parse_known_args()\n",
    "    \n",
    "    torch.manual_seed(hparams.seed)\n",
    "    \n",
    "    os.environ[\"CUDA_VISIBLE_DEVICES\"] = hparams.gpu"
   ]
  },
  {
   "cell_type": "markdown",
   "metadata": {},
   "source": [
    "# Loading a model"
   ]
  },
  {
   "cell_type": "code",
   "execution_count": 4,
   "metadata": {},
   "outputs": [],
   "source": [
    "device = \"cuda:0\"\n",
    "\n",
    "if hparams.architecture == \"bert\":\n",
    "    model = BertSentimentClassificationSSTDiffMask.load_from_checkpoint(hparams.model_path).to(device)\n",
    "elif hparams.architecture == \"gru\":\n",
    "    if \"per_sample-diffmask\" in hparams.model_path:\n",
    "        model = PerSampleDiffMaskRecurrentSentimentClassificationSSTDiffMask.load_from_checkpoint(\n",
    "            hparams.model_path\n",
    "        ).to(device)\n",
    "    elif \"per_sample-reinforce\" in hparams.model_path:\n",
    "        model = PerSampleREINFORCERecurrentSentimentClassificationSSTDiffMask.load_from_checkpoint(\n",
    "            hparams.model_path\n",
    "        ).to(device)\n",
    "    else:\n",
    "        model = RecurrentSentimentClassificationSSTDiffMask.load_from_checkpoint(\n",
    "            hparams.model_path\n",
    "        ).to(device)\n",
    "\n",
    "model.freeze()"
   ]
  },
  {
   "cell_type": "markdown",
   "metadata": {},
   "source": [
    "# Creating and plotting DiffMask attributions"
   ]
  },
  {
   "cell_type": "code",
   "execution_count": 5,
   "metadata": {},
   "outputs": [],
   "source": [
    "source = \"A fast , funny , highly enjoyable movie .\"\n",
    "\n",
    "inputs_dict = {\n",
    "    k: v.to(device)\n",
    "    for k, v in model.tokenizer.encode_plus(\n",
    "        source,\n",
    "        max_length=384,\n",
    "        pad_to_max_length=True,\n",
    "        return_tensors=\"pt\",\n",
    "    ).items()\n",
    "}\n",
    "inputs_dict[\"mask\"] = inputs_dict[\"attention_mask\"]\n",
    "del inputs_dict[\"attention_mask\"]\n",
    "del inputs_dict[\"token_type_ids\"]\n",
    "\n",
    "source = model.tokenizer.tokenize(source)\n",
    "tokens = [\"[CLS]\"]  + source + [\"[SEP]\"]"
   ]
  },
  {
   "cell_type": "code",
   "execution_count": 6,
   "metadata": {},
   "outputs": [
    {
     "data": {
      "image/png": "[encoded data removed]",
      "text/plain": [
       "<Figure size 648x264 with 1 Axes>"
      ]
     },
     "metadata": {},
     "output_type": "display_data"
    }
   ],
   "source": [
    "attributions = model.forward_explainer(\n",
    "    **inputs_dict, attribution=True\n",
    ").exp()[0,:len(tokens)].cpu()\n",
    "\n",
    "plot_sst_attributions(attributions, tokens)"
   ]
  },
  {
   "cell_type": "markdown",
   "metadata": {},
   "source": [
    "# Computing statistics on the validation set"
   ]
  },
  {
   "cell_type": "code",
   "execution_count": 7,
   "metadata": {},
   "outputs": [],
   "source": [
    "model.prepare_data()\n",
    "\n",
    "with open(\"./datasets/sst/dev-mapping.json\", \"r\") as f:\n",
    "    model.val_dataset_orig = json.load(f)"
   ]
  },
  {
   "cell_type": "code",
   "execution_count": 8,
   "metadata": {
    "scrolled": true
   },
   "outputs": [
    {
     "data": {
      "application/vnd.jupyter.widget-view+json": {
       "model_id": "fb62ebb9202c44f7bea47465de91e8ec",
       "version_major": 2,
       "version_minor": 0
      },
      "text/plain": [
       "HBox(children=(FloatProgress(value=0.0, max=17.0), HTML(value='')))"
      ]
     },
     "metadata": {},
     "output_type": "display_data"
    },
    {
     "name": "stdout",
     "output_type": "stream",
     "text": [
      "\n"
     ]
    }
   ],
   "source": [
    "for i, batch in tqdm(enumerate(model.val_dataloader()), total=len(model.val_dataset) // model.hparams.batch_size):\n",
    "    input_ids, mask, label = tuple(e.to(device) for e in batch)\n",
    "    \n",
    "    attributions = model.forward_explainer(\n",
    "        input_ids, mask, attribution=True\n",
    "    ).exp().cpu()\n",
    "\n",
    "    for j in range(attributions.shape[0]):\n",
    "        model.val_dataset_orig[i * model.hparams.batch_size + j] += [attributions[j,:mask[j].sum().item()]]"
   ]
  },
  {
   "cell_type": "code",
   "execution_count": 9,
   "metadata": {},
   "outputs": [
    {
     "data": {
      "image/png": "[encoded data removed]",
      "text/plain": [
       "<Figure size 288x180 with 1 Axes>"
      ]
     },
     "metadata": {
      "needs_background": "light"
     },
     "output_type": "display_data"
    }
   ],
   "source": [
    "counts = defaultdict(list)\n",
    "for e in model.val_dataset_orig:\n",
    "    for k, v in zip(e[-3], e[-1][1:-1].sum(-1)):\n",
    "        counts[k].append(v)\n",
    "        \n",
    "counts = sorted([(k, torch.stack(v)) for k, v in counts.items()])\n",
    "counts = [(k, (v.mean(), v.std())) for k, v in counts]\n",
    "counts_label = [\"Very negative\", \"Negative\",  \"Neutral\", \"Positive\", \"Very positive\"]\n",
    "\n",
    "fig = plt.figure(figsize=(4, len(counts) / 2))\n",
    "plt.barh(range(len(counts)),\n",
    "        [m.item() for k, (m, s) in counts],\n",
    "        xerr=[s.item() for k, (m, s) in counts],\n",
    "        capsize=3)\n",
    "plt.yticks(torch.arange(len(counts)), [counts_label[k] for k, (m, s) in counts], size=16)\n",
    "plt.xticks(torch.arange(0, 13, 2) + .5, [\"E\"] + list(range(2, 13, 2)), size=16)\n",
    "plt.xlim(-1, 17)\n",
    "plt.margins(y=.5 / len(counts))\n",
    "\n",
    "plt.show()"
   ]
  },
  {
   "cell_type": "code",
   "execution_count": 10,
   "metadata": {},
   "outputs": [
    {
     "data": {
      "image/png": "[encoded data removed]",
      "text/plain": [
       "<Figure size 288x612 with 1 Axes>"
      ]
     },
     "metadata": {
      "needs_background": "light"
     },
     "output_type": "display_data"
    }
   ],
   "source": [
    "counts = defaultdict(list)\n",
    "for e in model.val_dataset_orig:\n",
    "    for k, v in zip([f[0] for f in e[-2]], e[-1][1:-1].sum(-1)):\n",
    "        counts[k].append(v)\n",
    "    counts[\"[CLS]\"].append(e[-1][0].sum(-1))\n",
    "    counts[\"[SEP]\"].append(e[-1][-1].sum(-1))\n",
    "        \n",
    "counts = sorted([(k, torch.stack(v)) for k, v in counts.items()])\n",
    "counts = [(k, (v.mean(), v.std())) for k, v in counts]\n",
    "counts = sorted(counts, key=lambda x: x[1][0])\n",
    "\n",
    "fig = plt.figure(figsize=(4, len(counts) / 2))\n",
    "plt.barh(range(len(counts)),\n",
    "        [m.item() for k, (m, s) in counts],\n",
    "        xerr=[s.item() for k, (m, s) in counts],\n",
    "        capsize=3)\n",
    "plt.yticks(torch.arange(len(counts)), [k for k, (m, s) in counts], size=16)\n",
    "plt.xticks(torch.arange(0, 13, 2) + .5, [\"E\"] + list(range(2, 13, 2)), size=16)\n",
    "plt.xlim(-1.5, 17)\n",
    "plt.margins(y=.5 / len(counts))\n",
    "\n",
    "plt.show()"
   ]
  },
  {
   "cell_type": "code",
   "execution_count": null,
   "metadata": {},
   "outputs": [],
   "source": []
  }
 ],
 "metadata": {
  "kernelspec": {
   "display_name": "Python 3",
   "language": "python",
   "name": "python3"
  },
  "language_info": {
   "codemirror_mode": {
    "name": "ipython",
    "version": 3
   },
   "file_extension": ".py",
   "mimetype": "text/x-python",
   "name": "python",
   "nbconvert_exporter": "python",
   "pygments_lexer": "ipython3",
   "version": "3.6.10"
  }
 },
 "nbformat": 4,
 "nbformat_minor": 4
}
